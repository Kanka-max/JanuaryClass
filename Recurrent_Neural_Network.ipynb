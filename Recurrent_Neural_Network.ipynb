{
  "nbformat": 4,
  "nbformat_minor": 0,
  "metadata": {
    "colab": {
      "name": "Recurrent Neural Network.ipynb",
      "provenance": [],
      "authorship_tag": "ABX9TyNZmwBgnMNmomDi5kj9QYLz",
      "include_colab_link": true
    },
    "kernelspec": {
      "name": "python3",
      "display_name": "Python 3"
    },
    "language_info": {
      "name": "python"
    }
  },
  "cells": [
    {
      "cell_type": "markdown",
      "metadata": {
        "id": "view-in-github",
        "colab_type": "text"
      },
      "source": [
        "<a href=\"https://colab.research.google.com/github/Kanka-max/JanuaryClass/blob/main/Recurrent_Neural_Network.ipynb\" target=\"_parent\"><img src=\"https://colab.research.google.com/assets/colab-badge.svg\" alt=\"Open In Colab\"/></a>"
      ]
    },
    {
      "cell_type": "code",
      "execution_count": null,
      "metadata": {
        "id": "2Hj0Cx6001PW"
      },
      "outputs": [],
      "source": [
        "# standard imports \n",
        "import numpy as np\n",
        "import pandas as pd\n",
        "import matplotlib.pyplot"
      ]
    },
    {
      "cell_type": "code",
      "source": [
        "# import data \n",
        "df=pd.read_csv('https://raw.githubusercontent.com/Heytec/ADS_REV_code/main/031%20RNN/data/data.csv',parse_dates=True,index_col='DATE')\n",
        "df.head(2)"
      ],
      "metadata": {
        "colab": {
          "base_uri": "https://localhost:8080/",
          "height": 143
        },
        "id": "AcAfKd3P1InB",
        "outputId": "b04b838f-55d0-490e-dbf5-53bb736d378d"
      },
      "execution_count": null,
      "outputs": [
        {
          "output_type": "execute_result",
          "data": {
            "text/plain": [
              "            RSCCASN\n",
              "DATE               \n",
              "1992-01-01     6938\n",
              "1992-02-01     7524"
            ],
            "text/html": [
              "\n",
              "  <div id=\"df-6d79ef03-5732-433e-b484-4a6139e8d462\">\n",
              "    <div class=\"colab-df-container\">\n",
              "      <div>\n",
              "<style scoped>\n",
              "    .dataframe tbody tr th:only-of-type {\n",
              "        vertical-align: middle;\n",
              "    }\n",
              "\n",
              "    .dataframe tbody tr th {\n",
              "        vertical-align: top;\n",
              "    }\n",
              "\n",
              "    .dataframe thead th {\n",
              "        text-align: right;\n",
              "    }\n",
              "</style>\n",
              "<table border=\"1\" class=\"dataframe\">\n",
              "  <thead>\n",
              "    <tr style=\"text-align: right;\">\n",
              "      <th></th>\n",
              "      <th>RSCCASN</th>\n",
              "    </tr>\n",
              "    <tr>\n",
              "      <th>DATE</th>\n",
              "      <th></th>\n",
              "    </tr>\n",
              "  </thead>\n",
              "  <tbody>\n",
              "    <tr>\n",
              "      <th>1992-01-01</th>\n",
              "      <td>6938</td>\n",
              "    </tr>\n",
              "    <tr>\n",
              "      <th>1992-02-01</th>\n",
              "      <td>7524</td>\n",
              "    </tr>\n",
              "  </tbody>\n",
              "</table>\n",
              "</div>\n",
              "      <button class=\"colab-df-convert\" onclick=\"convertToInteractive('df-6d79ef03-5732-433e-b484-4a6139e8d462')\"\n",
              "              title=\"Convert this dataframe to an interactive table.\"\n",
              "              style=\"display:none;\">\n",
              "        \n",
              "  <svg xmlns=\"http://www.w3.org/2000/svg\" height=\"24px\"viewBox=\"0 0 24 24\"\n",
              "       width=\"24px\">\n",
              "    <path d=\"M0 0h24v24H0V0z\" fill=\"none\"/>\n",
              "    <path d=\"M18.56 5.44l.94 2.06.94-2.06 2.06-.94-2.06-.94-.94-2.06-.94 2.06-2.06.94zm-11 1L8.5 8.5l.94-2.06 2.06-.94-2.06-.94L8.5 2.5l-.94 2.06-2.06.94zm10 10l.94 2.06.94-2.06 2.06-.94-2.06-.94-.94-2.06-.94 2.06-2.06.94z\"/><path d=\"M17.41 7.96l-1.37-1.37c-.4-.4-.92-.59-1.43-.59-.52 0-1.04.2-1.43.59L10.3 9.45l-7.72 7.72c-.78.78-.78 2.05 0 2.83L4 21.41c.39.39.9.59 1.41.59.51 0 1.02-.2 1.41-.59l7.78-7.78 2.81-2.81c.8-.78.8-2.07 0-2.86zM5.41 20L4 18.59l7.72-7.72 1.47 1.35L5.41 20z\"/>\n",
              "  </svg>\n",
              "      </button>\n",
              "      \n",
              "  <style>\n",
              "    .colab-df-container {\n",
              "      display:flex;\n",
              "      flex-wrap:wrap;\n",
              "      gap: 12px;\n",
              "    }\n",
              "\n",
              "    .colab-df-convert {\n",
              "      background-color: #E8F0FE;\n",
              "      border: none;\n",
              "      border-radius: 50%;\n",
              "      cursor: pointer;\n",
              "      display: none;\n",
              "      fill: #1967D2;\n",
              "      height: 32px;\n",
              "      padding: 0 0 0 0;\n",
              "      width: 32px;\n",
              "    }\n",
              "\n",
              "    .colab-df-convert:hover {\n",
              "      background-color: #E2EBFA;\n",
              "      box-shadow: 0px 1px 2px rgba(60, 64, 67, 0.3), 0px 1px 3px 1px rgba(60, 64, 67, 0.15);\n",
              "      fill: #174EA6;\n",
              "    }\n",
              "\n",
              "    [theme=dark] .colab-df-convert {\n",
              "      background-color: #3B4455;\n",
              "      fill: #D2E3FC;\n",
              "    }\n",
              "\n",
              "    [theme=dark] .colab-df-convert:hover {\n",
              "      background-color: #434B5C;\n",
              "      box-shadow: 0px 1px 3px 1px rgba(0, 0, 0, 0.15);\n",
              "      filter: drop-shadow(0px 1px 2px rgba(0, 0, 0, 0.3));\n",
              "      fill: #FFFFFF;\n",
              "    }\n",
              "  </style>\n",
              "\n",
              "      <script>\n",
              "        const buttonEl =\n",
              "          document.querySelector('#df-6d79ef03-5732-433e-b484-4a6139e8d462 button.colab-df-convert');\n",
              "        buttonEl.style.display =\n",
              "          google.colab.kernel.accessAllowed ? 'block' : 'none';\n",
              "\n",
              "        async function convertToInteractive(key) {\n",
              "          const element = document.querySelector('#df-6d79ef03-5732-433e-b484-4a6139e8d462');\n",
              "          const dataTable =\n",
              "            await google.colab.kernel.invokeFunction('convertToInteractive',\n",
              "                                                     [key], {});\n",
              "          if (!dataTable) return;\n",
              "\n",
              "          const docLinkHtml = 'Like what you see? Visit the ' +\n",
              "            '<a target=\"_blank\" href=https://colab.research.google.com/notebooks/data_table.ipynb>data table notebook</a>'\n",
              "            + ' to learn more about interactive tables.';\n",
              "          element.innerHTML = '';\n",
              "          dataTable['output_type'] = 'display_data';\n",
              "          await google.colab.output.renderOutput(dataTable, element);\n",
              "          const docLink = document.createElement('div');\n",
              "          docLink.innerHTML = docLinkHtml;\n",
              "          element.appendChild(docLink);\n",
              "        }\n",
              "      </script>\n",
              "    </div>\n",
              "  </div>\n",
              "  "
            ]
          },
          "metadata": {},
          "execution_count": 2
        }
      ]
    },
    {
      "cell_type": "code",
      "source": [
        "# rename the columns\n",
        "\n",
        "df.columns = [\"Sales\"]\n",
        "df.head()"
      ],
      "metadata": {
        "colab": {
          "base_uri": "https://localhost:8080/",
          "height": 237
        },
        "id": "2g-bQ0yQFsJa",
        "outputId": "f9b92a05-8b22-441d-cbaa-ee05a8c3766d"
      },
      "execution_count": null,
      "outputs": [
        {
          "output_type": "execute_result",
          "data": {
            "text/plain": [
              "            Sales\n",
              "DATE             \n",
              "1992-01-01   6938\n",
              "1992-02-01   7524\n",
              "1992-03-01   8475\n",
              "1992-04-01   9401\n",
              "1992-05-01   9558"
            ],
            "text/html": [
              "\n",
              "  <div id=\"df-d4ee6a6d-45f4-45fa-98c3-7235fc2c8215\">\n",
              "    <div class=\"colab-df-container\">\n",
              "      <div>\n",
              "<style scoped>\n",
              "    .dataframe tbody tr th:only-of-type {\n",
              "        vertical-align: middle;\n",
              "    }\n",
              "\n",
              "    .dataframe tbody tr th {\n",
              "        vertical-align: top;\n",
              "    }\n",
              "\n",
              "    .dataframe thead th {\n",
              "        text-align: right;\n",
              "    }\n",
              "</style>\n",
              "<table border=\"1\" class=\"dataframe\">\n",
              "  <thead>\n",
              "    <tr style=\"text-align: right;\">\n",
              "      <th></th>\n",
              "      <th>Sales</th>\n",
              "    </tr>\n",
              "    <tr>\n",
              "      <th>DATE</th>\n",
              "      <th></th>\n",
              "    </tr>\n",
              "  </thead>\n",
              "  <tbody>\n",
              "    <tr>\n",
              "      <th>1992-01-01</th>\n",
              "      <td>6938</td>\n",
              "    </tr>\n",
              "    <tr>\n",
              "      <th>1992-02-01</th>\n",
              "      <td>7524</td>\n",
              "    </tr>\n",
              "    <tr>\n",
              "      <th>1992-03-01</th>\n",
              "      <td>8475</td>\n",
              "    </tr>\n",
              "    <tr>\n",
              "      <th>1992-04-01</th>\n",
              "      <td>9401</td>\n",
              "    </tr>\n",
              "    <tr>\n",
              "      <th>1992-05-01</th>\n",
              "      <td>9558</td>\n",
              "    </tr>\n",
              "  </tbody>\n",
              "</table>\n",
              "</div>\n",
              "      <button class=\"colab-df-convert\" onclick=\"convertToInteractive('df-d4ee6a6d-45f4-45fa-98c3-7235fc2c8215')\"\n",
              "              title=\"Convert this dataframe to an interactive table.\"\n",
              "              style=\"display:none;\">\n",
              "        \n",
              "  <svg xmlns=\"http://www.w3.org/2000/svg\" height=\"24px\"viewBox=\"0 0 24 24\"\n",
              "       width=\"24px\">\n",
              "    <path d=\"M0 0h24v24H0V0z\" fill=\"none\"/>\n",
              "    <path d=\"M18.56 5.44l.94 2.06.94-2.06 2.06-.94-2.06-.94-.94-2.06-.94 2.06-2.06.94zm-11 1L8.5 8.5l.94-2.06 2.06-.94-2.06-.94L8.5 2.5l-.94 2.06-2.06.94zm10 10l.94 2.06.94-2.06 2.06-.94-2.06-.94-.94-2.06-.94 2.06-2.06.94z\"/><path d=\"M17.41 7.96l-1.37-1.37c-.4-.4-.92-.59-1.43-.59-.52 0-1.04.2-1.43.59L10.3 9.45l-7.72 7.72c-.78.78-.78 2.05 0 2.83L4 21.41c.39.39.9.59 1.41.59.51 0 1.02-.2 1.41-.59l7.78-7.78 2.81-2.81c.8-.78.8-2.07 0-2.86zM5.41 20L4 18.59l7.72-7.72 1.47 1.35L5.41 20z\"/>\n",
              "  </svg>\n",
              "      </button>\n",
              "      \n",
              "  <style>\n",
              "    .colab-df-container {\n",
              "      display:flex;\n",
              "      flex-wrap:wrap;\n",
              "      gap: 12px;\n",
              "    }\n",
              "\n",
              "    .colab-df-convert {\n",
              "      background-color: #E8F0FE;\n",
              "      border: none;\n",
              "      border-radius: 50%;\n",
              "      cursor: pointer;\n",
              "      display: none;\n",
              "      fill: #1967D2;\n",
              "      height: 32px;\n",
              "      padding: 0 0 0 0;\n",
              "      width: 32px;\n",
              "    }\n",
              "\n",
              "    .colab-df-convert:hover {\n",
              "      background-color: #E2EBFA;\n",
              "      box-shadow: 0px 1px 2px rgba(60, 64, 67, 0.3), 0px 1px 3px 1px rgba(60, 64, 67, 0.15);\n",
              "      fill: #174EA6;\n",
              "    }\n",
              "\n",
              "    [theme=dark] .colab-df-convert {\n",
              "      background-color: #3B4455;\n",
              "      fill: #D2E3FC;\n",
              "    }\n",
              "\n",
              "    [theme=dark] .colab-df-convert:hover {\n",
              "      background-color: #434B5C;\n",
              "      box-shadow: 0px 1px 3px 1px rgba(0, 0, 0, 0.15);\n",
              "      filter: drop-shadow(0px 1px 2px rgba(0, 0, 0, 0.3));\n",
              "      fill: #FFFFFF;\n",
              "    }\n",
              "  </style>\n",
              "\n",
              "      <script>\n",
              "        const buttonEl =\n",
              "          document.querySelector('#df-d4ee6a6d-45f4-45fa-98c3-7235fc2c8215 button.colab-df-convert');\n",
              "        buttonEl.style.display =\n",
              "          google.colab.kernel.accessAllowed ? 'block' : 'none';\n",
              "\n",
              "        async function convertToInteractive(key) {\n",
              "          const element = document.querySelector('#df-d4ee6a6d-45f4-45fa-98c3-7235fc2c8215');\n",
              "          const dataTable =\n",
              "            await google.colab.kernel.invokeFunction('convertToInteractive',\n",
              "                                                     [key], {});\n",
              "          if (!dataTable) return;\n",
              "\n",
              "          const docLinkHtml = 'Like what you see? Visit the ' +\n",
              "            '<a target=\"_blank\" href=https://colab.research.google.com/notebooks/data_table.ipynb>data table notebook</a>'\n",
              "            + ' to learn more about interactive tables.';\n",
              "          element.innerHTML = '';\n",
              "          dataTable['output_type'] = 'display_data';\n",
              "          await google.colab.output.renderOutput(dataTable, element);\n",
              "          const docLink = document.createElement('div');\n",
              "          docLink.innerHTML = docLinkHtml;\n",
              "          element.appendChild(docLink);\n",
              "        }\n",
              "      </script>\n",
              "    </div>\n",
              "  </div>\n",
              "  "
            ]
          },
          "metadata": {},
          "execution_count": 3
        }
      ]
    },
    {
      "cell_type": "code",
      "source": [
        "df.dtypes"
      ],
      "metadata": {
        "colab": {
          "base_uri": "https://localhost:8080/"
        },
        "id": "NaUQgWZSFyKQ",
        "outputId": "2ba86046-7a59-4ad1-fdb9-0430342557d1"
      },
      "execution_count": null,
      "outputs": [
        {
          "output_type": "execute_result",
          "data": {
            "text/plain": [
              "Sales    int64\n",
              "dtype: object"
            ]
          },
          "metadata": {},
          "execution_count": 4
        }
      ]
    },
    {
      "cell_type": "code",
      "source": [
        "# visualization\n",
        "# seasonality\n",
        "# trend\n",
        "# noise\n",
        "\n",
        "# anomaly detection - video data, time series\n",
        "# fraud detection\n",
        "df.plot(figsize=(12,8))\n"
      ],
      "metadata": {
        "colab": {
          "base_uri": "https://localhost:8080/",
          "height": 514
        },
        "id": "ROArgO94F1Xl",
        "outputId": "4d176ad2-8cea-4026-844c-008ae358b752"
      },
      "execution_count": null,
      "outputs": [
        {
          "output_type": "execute_result",
          "data": {
            "text/plain": [
              "<matplotlib.axes._subplots.AxesSubplot at 0x7f421c184c50>"
            ]
          },
          "metadata": {},
          "execution_count": 7
        },
        {
          "output_type": "display_data",
          "data": {
            "text/plain": [
              "<Figure size 864x576 with 1 Axes>"
            ],
            "image/png": "[encoded data removed]"
          },
          "metadata": {
            "needs_background": "light"
          }
        }
      ]
    },
    {
      "cell_type": "code",
      "source": [
        "df"
      ],
      "metadata": {
        "colab": {
          "base_uri": "https://localhost:8080/",
          "height": 455
        },
        "id": "x-qxVS02Gemm",
        "outputId": "f73a58d1-0327-4a28-9cdd-ffe2568797a9"
      },
      "execution_count": null,
      "outputs": [
        {
          "output_type": "execute_result",
          "data": {
            "text/plain": [
              "            Sales\n",
              "DATE             \n",
              "1992-01-01   6938\n",
              "1992-02-01   7524\n",
              "1992-03-01   8475\n",
              "1992-04-01   9401\n",
              "1992-05-01   9558\n",
              "...           ...\n",
              "2019-06-01  21123\n",
              "2019-07-01  21714\n",
              "2019-08-01  23791\n",
              "2019-09-01  19695\n",
              "2019-10-01  21113\n",
              "\n",
              "[334 rows x 1 columns]"
            ],
            "text/html": [
              "\n",
              "  <div id=\"df-08c695a0-c29f-4695-b2b9-28c1a694e2ae\">\n",
              "    <div class=\"colab-df-container\">\n",
              "      <div>\n",
              "<style scoped>\n",
              "    .dataframe tbody tr th:only-of-type {\n",
              "        vertical-align: middle;\n",
              "    }\n",
              "\n",
              "    .dataframe tbody tr th {\n",
              "        vertical-align: top;\n",
              "    }\n",
              "\n",
              "    .dataframe thead th {\n",
              "        text-align: right;\n",
              "    }\n",
              "</style>\n",
              "<table border=\"1\" class=\"dataframe\">\n",
              "  <thead>\n",
              "    <tr style=\"text-align: right;\">\n",
              "      <th></th>\n",
              "      <th>Sales</th>\n",
              "    </tr>\n",
              "    <tr>\n",
              "      <th>DATE</th>\n",
              "      <th></th>\n",
              "    </tr>\n",
              "  </thead>\n",
              "  <tbody>\n",
              "    <tr>\n",
              "      <th>1992-01-01</th>\n",
              "      <td>6938</td>\n",
              "    </tr>\n",
              "    <tr>\n",
              "      <th>1992-02-01</th>\n",
              "      <td>7524</td>\n",
              "    </tr>\n",
              "    <tr>\n",
              "      <th>1992-03-01</th>\n",
              "      <td>8475</td>\n",
              "    </tr>\n",
              "    <tr>\n",
              "      <th>1992-04-01</th>\n",
              "      <td>9401</td>\n",
              "    </tr>\n",
              "    <tr>\n",
              "      <th>1992-05-01</th>\n",
              "      <td>9558</td>\n",
              "    </tr>\n",
              "    <tr>\n",
              "      <th>...</th>\n",
              "      <td>...</td>\n",
              "    </tr>\n",
              "    <tr>\n",
              "      <th>2019-06-01</th>\n",
              "      <td>21123</td>\n",
              "    </tr>\n",
              "    <tr>\n",
              "      <th>2019-07-01</th>\n",
              "      <td>21714</td>\n",
              "    </tr>\n",
              "    <tr>\n",
              "      <th>2019-08-01</th>\n",
              "      <td>23791</td>\n",
              "    </tr>\n",
              "    <tr>\n",
              "      <th>2019-09-01</th>\n",
              "      <td>19695</td>\n",
              "    </tr>\n",
              "    <tr>\n",
              "      <th>2019-10-01</th>\n",
              "      <td>21113</td>\n",
              "    </tr>\n",
              "  </tbody>\n",
              "</table>\n",
              "<p>334 rows × 1 columns</p>\n",
              "</div>\n",
              "      <button class=\"colab-df-convert\" onclick=\"convertToInteractive('df-08c695a0-c29f-4695-b2b9-28c1a694e2ae')\"\n",
              "              title=\"Convert this dataframe to an interactive table.\"\n",
              "              style=\"display:none;\">\n",
              "        \n",
              "  <svg xmlns=\"http://www.w3.org/2000/svg\" height=\"24px\"viewBox=\"0 0 24 24\"\n",
              "       width=\"24px\">\n",
              "    <path d=\"M0 0h24v24H0V0z\" fill=\"none\"/>\n",
              "    <path d=\"M18.56 5.44l.94 2.06.94-2.06 2.06-.94-2.06-.94-.94-2.06-.94 2.06-2.06.94zm-11 1L8.5 8.5l.94-2.06 2.06-.94-2.06-.94L8.5 2.5l-.94 2.06-2.06.94zm10 10l.94 2.06.94-2.06 2.06-.94-2.06-.94-.94-2.06-.94 2.06-2.06.94z\"/><path d=\"M17.41 7.96l-1.37-1.37c-.4-.4-.92-.59-1.43-.59-.52 0-1.04.2-1.43.59L10.3 9.45l-7.72 7.72c-.78.78-.78 2.05 0 2.83L4 21.41c.39.39.9.59 1.41.59.51 0 1.02-.2 1.41-.59l7.78-7.78 2.81-2.81c.8-.78.8-2.07 0-2.86zM5.41 20L4 18.59l7.72-7.72 1.47 1.35L5.41 20z\"/>\n",
              "  </svg>\n",
              "      </button>\n",
              "      \n",
              "  <style>\n",
              "    .colab-df-container {\n",
              "      display:flex;\n",
              "      flex-wrap:wrap;\n",
              "      gap: 12px;\n",
              "    }\n",
              "\n",
              "    .colab-df-convert {\n",
              "      background-color: #E8F0FE;\n",
              "      border: none;\n",
              "      border-radius: 50%;\n",
              "      cursor: pointer;\n",
              "      display: none;\n",
              "      fill: #1967D2;\n",
              "      height: 32px;\n",
              "      padding: 0 0 0 0;\n",
              "      width: 32px;\n",
              "    }\n",
              "\n",
              "    .colab-df-convert:hover {\n",
              "      background-color: #E2EBFA;\n",
              "      box-shadow: 0px 1px 2px rgba(60, 64, 67, 0.3), 0px 1px 3px 1px rgba(60, 64, 67, 0.15);\n",
              "      fill: #174EA6;\n",
              "    }\n",
              "\n",
              "    [theme=dark] .colab-df-convert {\n",
              "      background-color: #3B4455;\n",
              "      fill: #D2E3FC;\n",
              "    }\n",
              "\n",
              "    [theme=dark] .colab-df-convert:hover {\n",
              "      background-color: #434B5C;\n",
              "      box-shadow: 0px 1px 3px 1px rgba(0, 0, 0, 0.15);\n",
              "      filter: drop-shadow(0px 1px 2px rgba(0, 0, 0, 0.3));\n",
              "      fill: #FFFFFF;\n",
              "    }\n",
              "  </style>\n",
              "\n",
              "      <script>\n",
              "        const buttonEl =\n",
              "          document.querySelector('#df-08c695a0-c29f-4695-b2b9-28c1a694e2ae button.colab-df-convert');\n",
              "        buttonEl.style.display =\n",
              "          google.colab.kernel.accessAllowed ? 'block' : 'none';\n",
              "\n",
              "        async function convertToInteractive(key) {\n",
              "          const element = document.querySelector('#df-08c695a0-c29f-4695-b2b9-28c1a694e2ae');\n",
              "          const dataTable =\n",
              "            await google.colab.kernel.invokeFunction('convertToInteractive',\n",
              "                                                     [key], {});\n",
              "          if (!dataTable) return;\n",
              "\n",
              "          const docLinkHtml = 'Like what you see? Visit the ' +\n",
              "            '<a target=\"_blank\" href=https://colab.research.google.com/notebooks/data_table.ipynb>data table notebook</a>'\n",
              "            + ' to learn more about interactive tables.';\n",
              "          element.innerHTML = '';\n",
              "          dataTable['output_type'] = 'display_data';\n",
              "          await google.colab.output.renderOutput(dataTable, element);\n",
              "          const docLink = document.createElement('div');\n",
              "          docLink.innerHTML = docLinkHtml;\n",
              "          element.appendChild(docLink);\n",
              "        }\n",
              "      </script>\n",
              "    </div>\n",
              "  </div>\n",
              "  "
            ]
          },
          "metadata": {},
          "execution_count": 6
        }
      ]
    },
    {
      "cell_type": "code",
      "source": [
        "# total dataframe length\n",
        "\n",
        "len(df)"
      ],
      "metadata": {
        "id": "I7oLKs48GhzY",
        "colab": {
          "base_uri": "https://localhost:8080/"
        },
        "outputId": "11b5486f-033e-44ea-ec7d-4910f5a64ebf"
      },
      "execution_count": null,
      "outputs": [
        {
          "output_type": "execute_result",
          "data": {
            "text/plain": [
              "334"
            ]
          },
          "metadata": {},
          "execution_count": 8
        }
      ]
    },
    {
      "cell_type": "code",
      "source": [
        "# data is monthly\n",
        "# lets forecast 1.5 years into the future\n",
        "\n",
        "len(df) -18"
      ],
      "metadata": {
        "colab": {
          "base_uri": "https://localhost:8080/"
        },
        "id": "uSJxrtqVIa_K",
        "outputId": "89ecfa58-e3af-4ff1-ce09-70bae9a13fde"
      },
      "execution_count": null,
      "outputs": [
        {
          "output_type": "execute_result",
          "data": {
            "text/plain": [
              "316"
            ]
          },
          "metadata": {},
          "execution_count": 9
        }
      ]
    },
    {
      "cell_type": "code",
      "source": [
        "# test data\n",
        "\n",
        "test_size = 18\n",
        "test_ind = len(df) - test_size"
      ],
      "metadata": {
        "id": "_L5YUAhXIv-L"
      },
      "execution_count": null,
      "outputs": []
    },
    {
      "cell_type": "code",
      "source": [
        "# split sets\n",
        "# training set\n",
        "# test set\n",
        "\n",
        "train = df.iloc[:test_ind]\n",
        "test = df.iloc[test_ind:] \n",
        "\n",
        "\n",
        "train.head()"
      ],
      "metadata": {
        "colab": {
          "base_uri": "https://localhost:8080/",
          "height": 237
        },
        "id": "4xWFZqvgJPfD",
        "outputId": "8c5e4437-fcb0-403f-c9d7-33a5a87a32cb"
      },
      "execution_count": null,
      "outputs": [
        {
          "output_type": "execute_result",
          "data": {
            "text/plain": [
              "            Sales\n",
              "DATE             \n",
              "1992-01-01   6938\n",
              "1992-02-01   7524\n",
              "1992-03-01   8475\n",
              "1992-04-01   9401\n",
              "1992-05-01   9558"
            ],
            "text/html": [
              "\n",
              "  <div id=\"df-56817723-da0e-4200-9bf6-77c841550732\">\n",
              "    <div class=\"colab-df-container\">\n",
              "      <div>\n",
              "<style scoped>\n",
              "    .dataframe tbody tr th:only-of-type {\n",
              "        vertical-align: middle;\n",
              "    }\n",
              "\n",
              "    .dataframe tbody tr th {\n",
              "        vertical-align: top;\n",
              "    }\n",
              "\n",
              "    .dataframe thead th {\n",
              "        text-align: right;\n",
              "    }\n",
              "</style>\n",
              "<table border=\"1\" class=\"dataframe\">\n",
              "  <thead>\n",
              "    <tr style=\"text-align: right;\">\n",
              "      <th></th>\n",
              "      <th>Sales</th>\n",
              "    </tr>\n",
              "    <tr>\n",
              "      <th>DATE</th>\n",
              "      <th></th>\n",
              "    </tr>\n",
              "  </thead>\n",
              "  <tbody>\n",
              "    <tr>\n",
              "      <th>1992-01-01</th>\n",
              "      <td>6938</td>\n",
              "    </tr>\n",
              "    <tr>\n",
              "      <th>1992-02-01</th>\n",
              "      <td>7524</td>\n",
              "    </tr>\n",
              "    <tr>\n",
              "      <th>1992-03-01</th>\n",
              "      <td>8475</td>\n",
              "    </tr>\n",
              "    <tr>\n",
              "      <th>1992-04-01</th>\n",
              "      <td>9401</td>\n",
              "    </tr>\n",
              "    <tr>\n",
              "      <th>1992-05-01</th>\n",
              "      <td>9558</td>\n",
              "    </tr>\n",
              "  </tbody>\n",
              "</table>\n",
              "</div>\n",
              "      <button class=\"colab-df-convert\" onclick=\"convertToInteractive('df-56817723-da0e-4200-9bf6-77c841550732')\"\n",
              "              title=\"Convert this dataframe to an interactive table.\"\n",
              "              style=\"display:none;\">\n",
              "        \n",
              "  <svg xmlns=\"http://www.w3.org/2000/svg\" height=\"24px\"viewBox=\"0 0 24 24\"\n",
              "       width=\"24px\">\n",
              "    <path d=\"M0 0h24v24H0V0z\" fill=\"none\"/>\n",
              "    <path d=\"M18.56 5.44l.94 2.06.94-2.06 2.06-.94-2.06-.94-.94-2.06-.94 2.06-2.06.94zm-11 1L8.5 8.5l.94-2.06 2.06-.94-2.06-.94L8.5 2.5l-.94 2.06-2.06.94zm10 10l.94 2.06.94-2.06 2.06-.94-2.06-.94-.94-2.06-.94 2.06-2.06.94z\"/><path d=\"M17.41 7.96l-1.37-1.37c-.4-.4-.92-.59-1.43-.59-.52 0-1.04.2-1.43.59L10.3 9.45l-7.72 7.72c-.78.78-.78 2.05 0 2.83L4 21.41c.39.39.9.59 1.41.59.51 0 1.02-.2 1.41-.59l7.78-7.78 2.81-2.81c.8-.78.8-2.07 0-2.86zM5.41 20L4 18.59l7.72-7.72 1.47 1.35L5.41 20z\"/>\n",
              "  </svg>\n",
              "      </button>\n",
              "      \n",
              "  <style>\n",
              "    .colab-df-container {\n",
              "      display:flex;\n",
              "      flex-wrap:wrap;\n",
              "      gap: 12px;\n",
              "    }\n",
              "\n",
              "    .colab-df-convert {\n",
              "      background-color: #E8F0FE;\n",
              "      border: none;\n",
              "      border-radius: 50%;\n",
              "      cursor: pointer;\n",
              "      display: none;\n",
              "      fill: #1967D2;\n",
              "      height: 32px;\n",
              "      padding: 0 0 0 0;\n",
              "      width: 32px;\n",
              "    }\n",
              "\n",
              "    .colab-df-convert:hover {\n",
              "      background-color: #E2EBFA;\n",
              "      box-shadow: 0px 1px 2px rgba(60, 64, 67, 0.3), 0px 1px 3px 1px rgba(60, 64, 67, 0.15);\n",
              "      fill: #174EA6;\n",
              "    }\n",
              "\n",
              "    [theme=dark] .colab-df-convert {\n",
              "      background-color: #3B4455;\n",
              "      fill: #D2E3FC;\n",
              "    }\n",
              "\n",
              "    [theme=dark] .colab-df-convert:hover {\n",
              "      background-color: #434B5C;\n",
              "      box-shadow: 0px 1px 3px 1px rgba(0, 0, 0, 0.15);\n",
              "      filter: drop-shadow(0px 1px 2px rgba(0, 0, 0, 0.3));\n",
              "      fill: #FFFFFF;\n",
              "    }\n",
              "  </style>\n",
              "\n",
              "      <script>\n",
              "        const buttonEl =\n",
              "          document.querySelector('#df-56817723-da0e-4200-9bf6-77c841550732 button.colab-df-convert');\n",
              "        buttonEl.style.display =\n",
              "          google.colab.kernel.accessAllowed ? 'block' : 'none';\n",
              "\n",
              "        async function convertToInteractive(key) {\n",
              "          const element = document.querySelector('#df-56817723-da0e-4200-9bf6-77c841550732');\n",
              "          const dataTable =\n",
              "            await google.colab.kernel.invokeFunction('convertToInteractive',\n",
              "                                                     [key], {});\n",
              "          if (!dataTable) return;\n",
              "\n",
              "          const docLinkHtml = 'Like what you see? Visit the ' +\n",
              "            '<a target=\"_blank\" href=https://colab.research.google.com/notebooks/data_table.ipynb>data table notebook</a>'\n",
              "            + ' to learn more about interactive tables.';\n",
              "          element.innerHTML = '';\n",
              "          dataTable['output_type'] = 'display_data';\n",
              "          await google.colab.output.renderOutput(dataTable, element);\n",
              "          const docLink = document.createElement('div');\n",
              "          docLink.innerHTML = docLinkHtml;\n",
              "          element.appendChild(docLink);\n",
              "        }\n",
              "      </script>\n",
              "    </div>\n",
              "  </div>\n",
              "  "
            ]
          },
          "metadata": {},
          "execution_count": 11
        }
      ]
    },
    {
      "cell_type": "code",
      "source": [
        "# scale data\n",
        "# StandardScaler\n",
        "# RobustScaler\n",
        "# MinMaxScaler\n",
        "\n",
        "\n",
        "from sklearn.preprocessing import MinMaxScaler\n",
        "\n",
        "scaler = MinMaxScaler()\n",
        "\n",
        "scaler.fit(train)\n",
        "\n",
        "scaled_train = scaler.transform(train)\n",
        "scaled_test = scaler.transform(test)\n",
        "\n",
        "scaled_train"
      ],
      "metadata": {
        "colab": {
          "base_uri": "https://localhost:8080/"
        },
        "id": "VNfJefjiKJWn",
        "outputId": "0eeb5ef1-30c2-4ce0-b275-3180b769bc6b"
      },
      "execution_count": null,
      "outputs": [
        {
          "output_type": "execute_result",
          "data": {
            "text/plain": [
              "array([[0.        ],\n",
              "       [0.02127505],\n",
              "       [0.05580163],\n",
              "       [0.08942056],\n",
              "       [0.09512053],\n",
              "       [0.08146965],\n",
              "       [0.07860151],\n",
              "       [0.12979233],\n",
              "       [0.09566512],\n",
              "       [0.1203892 ],\n",
              "       [0.15426227],\n",
              "       [0.41595266],\n",
              "       [0.02047633],\n",
              "       [0.02127505],\n",
              "       [0.06636654],\n",
              "       [0.10633895],\n",
              "       [0.11345484],\n",
              "       [0.09791606],\n",
              "       [0.10368864],\n",
              "       [0.13396747],\n",
              "       [0.11163956],\n",
              "       [0.12372931],\n",
              "       [0.17506535],\n",
              "       [0.43250799],\n",
              "       [0.0124165 ],\n",
              "       [0.03499855],\n",
              "       [0.10829945],\n",
              "       [0.10641156],\n",
              "       [0.11149434],\n",
              "       [0.10728289],\n",
              "       [0.10154662],\n",
              "       [0.1531731 ],\n",
              "       [0.11904589],\n",
              "       [0.13767064],\n",
              "       [0.19663085],\n",
              "       [0.47480395],\n",
              "       [0.02105722],\n",
              "       [0.03714058],\n",
              "       [0.10445106],\n",
              "       [0.11726692],\n",
              "       [0.13367703],\n",
              "       [0.12209556],\n",
              "       [0.10332559],\n",
              "       [0.1570578 ],\n",
              "       [0.13694453],\n",
              "       [0.12710572],\n",
              "       [0.21104415],\n",
              "       [0.47429567],\n",
              "       [0.02708394],\n",
              "       [0.07453529],\n",
              "       [0.12383822],\n",
              "       [0.13186175],\n",
              "       [0.16217688],\n",
              "       [0.13128086],\n",
              "       [0.11850131],\n",
              "       [0.18864362],\n",
              "       [0.13378594],\n",
              "       [0.15654952],\n",
              "       [0.21554604],\n",
              "       [0.47218995],\n",
              "       [0.04559977],\n",
              "       [0.06887162],\n",
              "       [0.14166425],\n",
              "       [0.11592361],\n",
              "       [0.16580744],\n",
              "       [0.13491141],\n",
              "       [0.13781586],\n",
              "       [0.20051554],\n",
              "       [0.14536741],\n",
              "       [0.17052716],\n",
              "       [0.22894278],\n",
              "       [0.51481266],\n",
              "       [0.06760093],\n",
              "       [0.09297851],\n",
              "       [0.14249927],\n",
              "       [0.17742521],\n",
              "       [0.19245571],\n",
              "       [0.16384694],\n",
              "       [0.17045455],\n",
              "       [0.21903137],\n",
              "       [0.15524252],\n",
              "       [0.19772001],\n",
              "       [0.25108917],\n",
              "       [0.56200988],\n",
              "       [0.08346645],\n",
              "       [0.11737584],\n",
              "       [0.18671943],\n",
              "       [0.19779262],\n",
              "       [0.22614726],\n",
              "       [0.19394423],\n",
              "       [0.20051554],\n",
              "       [0.2467325 ],\n",
              "       [0.19673976],\n",
              "       [0.21819634],\n",
              "       [0.27973424],\n",
              "       [0.62982864],\n",
              "       [0.09109062],\n",
              "       [0.15364508],\n",
              "       [0.21431165],\n",
              "       [0.22458612],\n",
              "       [0.24676881],\n",
              "       [0.21837787],\n",
              "       [0.20193146],\n",
              "       [0.27853616],\n",
              "       [0.23369881],\n",
              "       [0.23348098],\n",
              "       [0.31720157],\n",
              "       [0.65121261],\n",
              "       [0.11334592],\n",
              "       [0.16381063],\n",
              "       [0.2225167 ],\n",
              "       [0.23322684],\n",
              "       [0.24865669],\n",
              "       [0.21772437],\n",
              "       [0.20556201],\n",
              "       [0.28608771],\n",
              "       [0.18755446],\n",
              "       [0.22799884],\n",
              "       [0.30547488],\n",
              "       [0.63883241],\n",
              "       [0.12365669],\n",
              "       [0.17397618],\n",
              "       [0.25555475],\n",
              "       [0.22716381],\n",
              "       [0.26183561],\n",
              "       [0.22770839],\n",
              "       [0.21547342],\n",
              "       [0.29679785],\n",
              "       [0.19993465],\n",
              "       [0.25660761],\n",
              "       [0.32576968],\n",
              "       [0.66845774],\n",
              "       [0.14035725],\n",
              "       [0.17150741],\n",
              "       [0.23649434],\n",
              "       [0.24517136],\n",
              "       [0.28289283],\n",
              "       [0.23809178],\n",
              "       [0.25108917],\n",
              "       [0.31164682],\n",
              "       [0.24066947],\n",
              "       [0.27820941],\n",
              "       [0.34915045],\n",
              "       [0.71964856],\n",
              "       [0.17615452],\n",
              "       [0.23257334],\n",
              "       [0.28398199],\n",
              "       [0.29480105],\n",
              "       [0.30645513],\n",
              "       [0.26499419],\n",
              "       [0.28060558],\n",
              "       [0.31404299],\n",
              "       [0.26452222],\n",
              "       [0.31338949],\n",
              "       [0.37365669],\n",
              "       [0.77940749],\n",
              "       [0.18544874],\n",
              "       [0.2519605 ],\n",
              "       [0.31908946],\n",
              "       [0.31839965],\n",
              "       [0.32860151],\n",
              "       [0.31299012],\n",
              "       [0.30060993],\n",
              "       [0.35430584],\n",
              "       [0.2912431 ],\n",
              "       [0.3474804 ],\n",
              "       [0.4162068 ],\n",
              "       [0.84729887],\n",
              "       [0.21619954],\n",
              "       [0.27359861],\n",
              "       [0.34301481],\n",
              "       [0.35978798],\n",
              "       [0.36904589],\n",
              "       [0.34733517],\n",
              "       [0.3389849 ],\n",
              "       [0.39551263],\n",
              "       [0.35684723],\n",
              "       [0.37449172],\n",
              "       [0.45211298],\n",
              "       [0.89035725],\n",
              "       [0.25373947],\n",
              "       [0.29549085],\n",
              "       [0.40324572],\n",
              "       [0.36879175],\n",
              "       [0.4188208 ],\n",
              "       [0.37579872],\n",
              "       [0.36105867],\n",
              "       [0.43247168],\n",
              "       [0.35677462],\n",
              "       [0.38759802],\n",
              "       [0.49419111],\n",
              "       [0.86033256],\n",
              "       [0.26267064],\n",
              "       [0.32449898],\n",
              "       [0.39326169],\n",
              "       [0.36904589],\n",
              "       [0.44096718],\n",
              "       [0.36556056],\n",
              "       [0.37870317],\n",
              "       [0.43940604],\n",
              "       [0.32471682],\n",
              "       [0.35790009],\n",
              "       [0.42905896],\n",
              "       [0.71841417],\n",
              "       [0.23413448],\n",
              "       [0.28122277],\n",
              "       [0.31313535],\n",
              "       [0.34123584],\n",
              "       [0.37489108],\n",
              "       [0.30845193],\n",
              "       [0.32925501],\n",
              "       [0.38912286],\n",
              "       [0.31556782],\n",
              "       [0.36723061],\n",
              "       [0.41366541],\n",
              "       [0.733009  ],\n",
              "       [0.22792623],\n",
              "       [0.2860151 ],\n",
              "       [0.37946558],\n",
              "       [0.36683125],\n",
              "       [0.39170055],\n",
              "       [0.33401104],\n",
              "       [0.35957014],\n",
              "       [0.39881644],\n",
              "       [0.33742376],\n",
              "       [0.3802643 ],\n",
              "       [0.47433198],\n",
              "       [0.78445396],\n",
              "       [0.24560703],\n",
              "       [0.32649579],\n",
              "       [0.41076096],\n",
              "       [0.42510166],\n",
              "       [0.42960354],\n",
              "       [0.39373366],\n",
              "       [0.39932472],\n",
              "       [0.44746587],\n",
              "       [0.40157566],\n",
              "       [0.41086988],\n",
              "       [0.50896747],\n",
              "       [0.87750508],\n",
              "       [0.26938716],\n",
              "       [0.39910688],\n",
              "       [0.48010456],\n",
              "       [0.4234316 ],\n",
              "       [0.4724804 ],\n",
              "       [0.42764304],\n",
              "       [0.41126924],\n",
              "       [0.50145222],\n",
              "       [0.41580744],\n",
              "       [0.43229015],\n",
              "       [0.54741505],\n",
              "       [0.89188208],\n",
              "       [0.29832268],\n",
              "       [0.37917514],\n",
              "       [0.49509875],\n",
              "       [0.44430729],\n",
              "       [0.50254139],\n",
              "       [0.43570288],\n",
              "       [0.44430729],\n",
              "       [0.5307871 ],\n",
              "       [0.40564188],\n",
              "       [0.46895876],\n",
              "       [0.56269968],\n",
              "       [0.89456869],\n",
              "       [0.29919402],\n",
              "       [0.38371333],\n",
              "       [0.47676445],\n",
              "       [0.48591345],\n",
              "       [0.53115016],\n",
              "       [0.43599332],\n",
              "       [0.46797851],\n",
              "       [0.54658002],\n",
              "       [0.42506535],\n",
              "       [0.48221028],\n",
              "       [0.60096573],\n",
              "       [0.93305257],\n",
              "       [0.32043276],\n",
              "       [0.40088586],\n",
              "       [0.50152483],\n",
              "       [0.48834592],\n",
              "       [0.55209846],\n",
              "       [0.46213331],\n",
              "       [0.49469939],\n",
              "       [0.5582341 ],\n",
              "       [0.44339965],\n",
              "       [0.4973497 ],\n",
              "       [0.5864072 ],\n",
              "       [0.95872059],\n",
              "       [0.31789137],\n",
              "       [0.43570288],\n",
              "       [0.52839094],\n",
              "       [0.48976184],\n",
              "       [0.53434505],\n",
              "       [0.48003195],\n",
              "       [0.49843886],\n",
              "       [0.56092071],\n",
              "       [0.4665989 ],\n",
              "       [0.49237584],\n",
              "       [0.60652048],\n",
              "       [1.        ],\n",
              "       [0.3167659 ],\n",
              "       [0.39235405],\n",
              "       [0.51154516],\n",
              "       [0.50515539],\n",
              "       [0.53252977],\n",
              "       [0.48591345],\n",
              "       [0.49364653],\n",
              "       [0.56629393],\n",
              "       [0.46405751],\n",
              "       [0.48536886],\n",
              "       [0.63534708],\n",
              "       [0.97233517],\n",
              "       [0.32468051],\n",
              "       [0.42285071],\n",
              "       [0.5615016 ],\n",
              "       [0.49658728]])"
            ]
          },
          "metadata": {},
          "execution_count": 18
        }
      ]
    },
    {
      "cell_type": "code",
      "source": [
        "# ImageDataGenerator\n",
        "#TimeseriesGenerator\n",
        "\n",
        "from tensorflow.keras.preprocessing.sequence import TimeseriesGenerator\n",
        "\n",
        "# lets define to get 12 months back and then predict the net month out\n",
        "\n",
        "length = 12\n",
        "\n",
        "\n",
        "# create an instance of the class\n",
        "# specify the input and output aspects of the time series problem - input/output/lengthof the training data\n",
        "\n",
        "\n",
        "generator = TimeseriesGenerator(scaled_train, scaled_train, length=length, batch_size =1)\n"
      ],
      "metadata": {
        "id": "xhAYWzBSMSOW"
      },
      "execution_count": null,
      "outputs": []
    },
    {
      "cell_type": "code",
      "source": [
        "# what does our first batch size look like\n",
        "\n",
        "X,y = generator[0]\n",
        "X"
      ],
      "metadata": {
        "colab": {
          "base_uri": "https://localhost:8080/"
        },
        "id": "oOcDXNcbOovT",
        "outputId": "bc6eae6b-79f6-4817-cf25-a6f4c7fce752"
      },
      "execution_count": null,
      "outputs": [
        {
          "output_type": "execute_result",
          "data": {
            "text/plain": [
              "array([[[0.        ],\n",
              "        [0.02127505],\n",
              "        [0.05580163],\n",
              "        [0.08942056],\n",
              "        [0.09512053],\n",
              "        [0.08146965],\n",
              "        [0.07860151],\n",
              "        [0.12979233],\n",
              "        [0.09566512],\n",
              "        [0.1203892 ],\n",
              "        [0.15426227],\n",
              "        [0.41595266]]])"
            ]
          },
          "metadata": {},
          "execution_count": 17
        }
      ]
    },
    {
      "cell_type": "code",
      "source": [
        "print(f\"Given the Array: \\n{X.flatten()} \")\n",
        "print(f\"Predict this y: \\n {y}\")"
      ],
      "metadata": {
        "id": "hgmnR90kP7DU",
        "colab": {
          "base_uri": "https://localhost:8080/"
        },
        "outputId": "953cab01-2550-4c5a-b59a-7b804cdb1be4"
      },
      "execution_count": null,
      "outputs": [
        {
          "output_type": "stream",
          "name": "stdout",
          "text": [
            "Given the Array: \n",
            "[0.         0.02127505 0.05580163 0.08942056 0.09512053 0.08146965\n",
            " 0.07860151 0.12979233 0.09566512 0.1203892  0.15426227 0.41595266] \n",
            "Predict this y: \n",
            " [[0.02047633]]\n"
          ]
        }
      ]
    },
    {
      "cell_type": "code",
      "source": [
        "# Initialize the sequential model\n",
        "\n",
        "from tensorflow.keras.models import Sequential\n",
        "from tensorflow.keras.layers import Dense, SimpleRNN\n",
        "\n",
        "# we are using on feature in our time series\n",
        "\n",
        "n_features =1\n",
        "\n",
        "# define the model\n",
        "model = Sequential()\n",
        "\n",
        "# define a simple RNN layer - input layer\n",
        "\n",
        "\n",
        "model.add(SimpleRNN(100, input_shape=(length, n_features)))\n",
        "\n",
        "# final prediction - output layer - regression problem - continuous variable\n",
        "\n",
        "model.add(Dense(1))\n",
        "\n",
        "# compiling the model\n",
        "\n",
        "model.compile(optimizer = \"adam\", loss = \"mse\")"
      ],
      "metadata": {
        "id": "nTlTK7r5RI8N"
      },
      "execution_count": null,
      "outputs": []
    },
    {
      "cell_type": "code",
      "source": [
        "model.summary()"
      ],
      "metadata": {
        "colab": {
          "base_uri": "https://localhost:8080/"
        },
        "id": "txt_lzt1SmTQ",
        "outputId": "6c5ec4f1-2b69-4ac4-c2ae-f6ae8638aab1"
      },
      "execution_count": null,
      "outputs": [
        {
          "output_type": "stream",
          "name": "stdout",
          "text": [
            "Model: \"sequential_1\"\n",
            "_________________________________________________________________\n",
            " Layer (type)                Output Shape              Param #   \n",
            "=================================================================\n",
            " simple_rnn (SimpleRNN)      (None, 100)               10200     \n",
            "                                                                 \n",
            " dense (Dense)               (None, 1)                 101       \n",
            "                                                                 \n",
            "=================================================================\n",
            "Total params: 10,301\n",
            "Trainable params: 10,301\n",
            "Non-trainable params: 0\n",
            "_________________________________________________________________\n"
          ]
        }
      ]
    },
    {
      "cell_type": "code",
      "source": [
        "%%time\n",
        "# define callbacks\n",
        "# stop training when a monitored metric stops improving\n",
        "# what is the monitored metric? - validation loss\n",
        "\n",
        "# Stop training when a monitored metric has stopped improving\n",
        "from tensorflow.keras.callbacks import EarlyStopping\n",
        "early_stop = EarlyStopping(monitor='val_loss',patience=2)\n",
        "validation_generator = TimeseriesGenerator(scaled_test,scaled_test, length=length, batch_size=1)\n",
        "# fit model\n",
        "model.fit_generator(generator,epochs=20,\n",
        "                    validation_data=validation_generator,\n",
        "                   callbacks=[early_stop])"
      ],
      "metadata": {
        "colab": {
          "base_uri": "https://localhost:8080/"
        },
        "id": "gxlTFw3oU9PC",
        "outputId": "a778ddf5-9913-4a33-c854-7560f6279cee"
      },
      "execution_count": null,
      "outputs": [
        {
          "output_type": "stream",
          "name": "stdout",
          "text": [
            "Epoch 1/20\n",
            " 33/304 [==>...........................] - ETA: 0s - loss: 0.0019"
          ]
        },
        {
          "output_type": "stream",
          "name": "stderr",
          "text": [
            "/usr/local/lib/python3.7/dist-packages/ipykernel_launcher.py:12: UserWarning: `Model.fit_generator` is deprecated and will be removed in a future version. Please use `Model.fit`, which supports generators.\n",
            "  if sys.path[0] == '':\n"
          ]
        },
        {
          "output_type": "stream",
          "name": "stdout",
          "text": [
            "304/304 [==============================] - 1s 3ms/step - loss: 0.0058 - val_loss: 0.0116\n",
            "Epoch 2/20\n",
            "304/304 [==============================] - 1s 3ms/step - loss: 0.0067 - val_loss: 0.0088\n",
            "Epoch 3/20\n",
            "304/304 [==============================] - 1s 3ms/step - loss: 0.0038 - val_loss: 0.0031\n",
            "Epoch 4/20\n",
            "304/304 [==============================] - 1s 3ms/step - loss: 0.0055 - val_loss: 0.0182\n",
            "Epoch 5/20\n",
            "304/304 [==============================] - 1s 3ms/step - loss: 0.0050 - val_loss: 0.0023\n",
            "Epoch 6/20\n",
            "304/304 [==============================] - 1s 3ms/step - loss: 0.0036 - val_loss: 0.0012\n",
            "Epoch 7/20\n",
            "304/304 [==============================] - 1s 3ms/step - loss: 0.0023 - val_loss: 0.0014\n",
            "Epoch 8/20\n",
            "304/304 [==============================] - 1s 3ms/step - loss: 0.0031 - val_loss: 0.0105\n",
            "CPU times: user 11 s, sys: 658 ms, total: 11.7 s\n",
            "Wall time: 9.36 s\n"
          ]
        }
      ]
    },
    {
      "cell_type": "code",
      "source": [
        "losses = pd.DataFrame(model.history.history)\n",
        "losses.plot()"
      ],
      "metadata": {
        "colab": {
          "base_uri": "https://localhost:8080/",
          "height": 282
        },
        "id": "9M2T_avDXh7N",
        "outputId": "f8138e97-cce1-4e0b-8665-ba157ee7e062"
      },
      "execution_count": null,
      "outputs": [
        {
          "output_type": "execute_result",
          "data": {
            "text/plain": [
              "<matplotlib.axes._subplots.AxesSubplot at 0x7f419cd25750>"
            ]
          },
          "metadata": {},
          "execution_count": 35
        },
        {
          "output_type": "display_data",
          "data": {
            "text/plain": [
              "<Figure size 432x288 with 1 Axes>"
            ],
            "image/png": "[encoded data removed]"
          },
          "metadata": {
            "needs_background": "light"
          }
        }
      ]
    },
    {
      "cell_type": "code",
      "source": [
        "test_predictions = []\n",
        "\n",
        "first_eval_batch = scaled_train[-length:]\n",
        "first_eval_batch"
      ],
      "metadata": {
        "colab": {
          "base_uri": "https://localhost:8080/"
        },
        "id": "2DETwL8GX0YD",
        "outputId": "c944afd6-5431-4511-e8cf-c6683e276fc8"
      },
      "execution_count": null,
      "outputs": [
        {
          "output_type": "execute_result",
          "data": {
            "text/plain": [
              "array([[0.53252977],\n",
              "       [0.48591345],\n",
              "       [0.49364653],\n",
              "       [0.56629393],\n",
              "       [0.46405751],\n",
              "       [0.48536886],\n",
              "       [0.63534708],\n",
              "       [0.97233517],\n",
              "       [0.32468051],\n",
              "       [0.42285071],\n",
              "       [0.5615016 ],\n",
              "       [0.49658728]])"
            ]
          },
          "metadata": {},
          "execution_count": 36
        }
      ]
    },
    {
      "cell_type": "code",
      "source": [
        "current_batch = first_eval_batch.reshape((1, length, n_features))\n",
        "\n",
        "current_batch = first_eval_batch.reshape((1, length, n_features))\n",
        "\n",
        "for i in range(len(test)):\n",
        "    \n",
        "    # get prediction 1 time stamp ahead ([0] is for grabbing just the number instead of [array])\n",
        "    current_pred = model.predict(current_batch)[0]\n",
        "    \n",
        "    # store prediction\n",
        "    test_predictions.append(current_pred) \n",
        "    \n",
        "    # update batch to now include prediction and drop first value\n",
        "    current_batch = np.append(current_batch[:,1:,:],[[current_pred]],axis=1)\n",
        "\n",
        "\n",
        "true_predictions = scaler.inverse_transform(test_predictions)\n",
        "\n",
        "test[\"Predictions\"] = true_predictions\n",
        "\n",
        "test.head()\n"
      ],
      "metadata": {
        "colab": {
          "base_uri": "https://localhost:8080/",
          "height": 344
        },
        "id": "lIv1QBZTaJiN",
        "outputId": "ab6b0a2a-a058-416c-c05b-4647930f051e"
      },
      "execution_count": null,
      "outputs": [
        {
          "output_type": "stream",
          "name": "stderr",
          "text": [
            "/usr/local/lib/python3.7/dist-packages/ipykernel_launcher.py:19: SettingWithCopyWarning: \n",
            "A value is trying to be set on a copy of a slice from a DataFrame.\n",
            "Try using .loc[row_indexer,col_indexer] = value instead\n",
            "\n",
            "See the caveats in the documentation: https://pandas.pydata.org/pandas-docs/stable/user_guide/indexing.html#returning-a-view-versus-a-copy\n"
          ]
        },
        {
          "output_type": "execute_result",
          "data": {
            "text/plain": [
              "            Sales   Predictions\n",
              "DATE                           \n",
              "2018-05-01  23764  25310.282946\n",
              "2018-06-01  21589  23129.907160\n",
              "2018-07-01  21919  22925.530586\n",
              "2018-08-01  23381  24947.170457\n",
              "2018-09-01  20260  22053.889214"
            ],
            "text/html": [
              "\n",
              "  <div id=\"df-2f0f0e46-3112-4304-8257-51c84d353698\">\n",
              "    <div class=\"colab-df-container\">\n",
              "      <div>\n",
              "<style scoped>\n",
              "    .dataframe tbody tr th:only-of-type {\n",
              "        vertical-align: middle;\n",
              "    }\n",
              "\n",
              "    .dataframe tbody tr th {\n",
              "        vertical-align: top;\n",
              "    }\n",
              "\n",
              "    .dataframe thead th {\n",
              "        text-align: right;\n",
              "    }\n",
              "</style>\n",
              "<table border=\"1\" class=\"dataframe\">\n",
              "  <thead>\n",
              "    <tr style=\"text-align: right;\">\n",
              "      <th></th>\n",
              "      <th>Sales</th>\n",
              "      <th>Predictions</th>\n",
              "    </tr>\n",
              "    <tr>\n",
              "      <th>DATE</th>\n",
              "      <th></th>\n",
              "      <th></th>\n",
              "    </tr>\n",
              "  </thead>\n",
              "  <tbody>\n",
              "    <tr>\n",
              "      <th>2018-05-01</th>\n",
              "      <td>23764</td>\n",
              "      <td>25310.282946</td>\n",
              "    </tr>\n",
              "    <tr>\n",
              "      <th>2018-06-01</th>\n",
              "      <td>21589</td>\n",
              "      <td>23129.907160</td>\n",
              "    </tr>\n",
              "    <tr>\n",
              "      <th>2018-07-01</th>\n",
              "      <td>21919</td>\n",
              "      <td>22925.530586</td>\n",
              "    </tr>\n",
              "    <tr>\n",
              "      <th>2018-08-01</th>\n",
              "      <td>23381</td>\n",
              "      <td>24947.170457</td>\n",
              "    </tr>\n",
              "    <tr>\n",
              "      <th>2018-09-01</th>\n",
              "      <td>20260</td>\n",
              "      <td>22053.889214</td>\n",
              "    </tr>\n",
              "  </tbody>\n",
              "</table>\n",
              "</div>\n",
              "      <button class=\"colab-df-convert\" onclick=\"convertToInteractive('df-2f0f0e46-3112-4304-8257-51c84d353698')\"\n",
              "              title=\"Convert this dataframe to an interactive table.\"\n",
              "              style=\"display:none;\">\n",
              "        \n",
              "  <svg xmlns=\"http://www.w3.org/2000/svg\" height=\"24px\"viewBox=\"0 0 24 24\"\n",
              "       width=\"24px\">\n",
              "    <path d=\"M0 0h24v24H0V0z\" fill=\"none\"/>\n",
              "    <path d=\"M18.56 5.44l.94 2.06.94-2.06 2.06-.94-2.06-.94-.94-2.06-.94 2.06-2.06.94zm-11 1L8.5 8.5l.94-2.06 2.06-.94-2.06-.94L8.5 2.5l-.94 2.06-2.06.94zm10 10l.94 2.06.94-2.06 2.06-.94-2.06-.94-.94-2.06-.94 2.06-2.06.94z\"/><path d=\"M17.41 7.96l-1.37-1.37c-.4-.4-.92-.59-1.43-.59-.52 0-1.04.2-1.43.59L10.3 9.45l-7.72 7.72c-.78.78-.78 2.05 0 2.83L4 21.41c.39.39.9.59 1.41.59.51 0 1.02-.2 1.41-.59l7.78-7.78 2.81-2.81c.8-.78.8-2.07 0-2.86zM5.41 20L4 18.59l7.72-7.72 1.47 1.35L5.41 20z\"/>\n",
              "  </svg>\n",
              "      </button>\n",
              "      \n",
              "  <style>\n",
              "    .colab-df-container {\n",
              "      display:flex;\n",
              "      flex-wrap:wrap;\n",
              "      gap: 12px;\n",
              "    }\n",
              "\n",
              "    .colab-df-convert {\n",
              "      background-color: #E8F0FE;\n",
              "      border: none;\n",
              "      border-radius: 50%;\n",
              "      cursor: pointer;\n",
              "      display: none;\n",
              "      fill: #1967D2;\n",
              "      height: 32px;\n",
              "      padding: 0 0 0 0;\n",
              "      width: 32px;\n",
              "    }\n",
              "\n",
              "    .colab-df-convert:hover {\n",
              "      background-color: #E2EBFA;\n",
              "      box-shadow: 0px 1px 2px rgba(60, 64, 67, 0.3), 0px 1px 3px 1px rgba(60, 64, 67, 0.15);\n",
              "      fill: #174EA6;\n",
              "    }\n",
              "\n",
              "    [theme=dark] .colab-df-convert {\n",
              "      background-color: #3B4455;\n",
              "      fill: #D2E3FC;\n",
              "    }\n",
              "\n",
              "    [theme=dark] .colab-df-convert:hover {\n",
              "      background-color: #434B5C;\n",
              "      box-shadow: 0px 1px 3px 1px rgba(0, 0, 0, 0.15);\n",
              "      filter: drop-shadow(0px 1px 2px rgba(0, 0, 0, 0.3));\n",
              "      fill: #FFFFFF;\n",
              "    }\n",
              "  </style>\n",
              "\n",
              "      <script>\n",
              "        const buttonEl =\n",
              "          document.querySelector('#df-2f0f0e46-3112-4304-8257-51c84d353698 button.colab-df-convert');\n",
              "        buttonEl.style.display =\n",
              "          google.colab.kernel.accessAllowed ? 'block' : 'none';\n",
              "\n",
              "        async function convertToInteractive(key) {\n",
              "          const element = document.querySelector('#df-2f0f0e46-3112-4304-8257-51c84d353698');\n",
              "          const dataTable =\n",
              "            await google.colab.kernel.invokeFunction('convertToInteractive',\n",
              "                                                     [key], {});\n",
              "          if (!dataTable) return;\n",
              "\n",
              "          const docLinkHtml = 'Like what you see? Visit the ' +\n",
              "            '<a target=\"_blank\" href=https://colab.research.google.com/notebooks/data_table.ipynb>data table notebook</a>'\n",
              "            + ' to learn more about interactive tables.';\n",
              "          element.innerHTML = '';\n",
              "          dataTable['output_type'] = 'display_data';\n",
              "          await google.colab.output.renderOutput(dataTable, element);\n",
              "          const docLink = document.createElement('div');\n",
              "          docLink.innerHTML = docLinkHtml;\n",
              "          element.appendChild(docLink);\n",
              "        }\n",
              "      </script>\n",
              "    </div>\n",
              "  </div>\n",
              "  "
            ]
          },
          "metadata": {},
          "execution_count": 37
        }
      ]
    },
    {
      "cell_type": "code",
      "source": [
        "test.plot(figsize=(12,8))"
      ],
      "metadata": {
        "id": "b6LHGAMIbqL2",
        "colab": {
          "base_uri": "https://localhost:8080/",
          "height": 525
        },
        "outputId": "918c7070-7ed1-4b29-d29b-e61c03ec10c0"
      },
      "execution_count": null,
      "outputs": [
        {
          "output_type": "execute_result",
          "data": {
            "text/plain": [
              "<matplotlib.axes._subplots.AxesSubplot at 0x7f419cca6710>"
            ]
          },
          "metadata": {},
          "execution_count": 39
        },
        {
          "output_type": "display_data",
          "data": {
            "text/plain": [
              "<Figure size 864x576 with 1 Axes>"
            ],
            "image/png": "[encoded data removed]"
          },
          "metadata": {
            "needs_background": "light"
          }
        }
      ]
    },
    {
      "cell_type": "code",
      "source": [
        ""
      ],
      "metadata": {
        "id": "p4hVNW1-ehF-"
      },
      "execution_count": null,
      "outputs": []
    }
  ]
}