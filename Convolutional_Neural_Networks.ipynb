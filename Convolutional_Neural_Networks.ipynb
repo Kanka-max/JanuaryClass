{
  "cells": [
    {
      "cell_type": "markdown",
      "metadata": {
        "id": "view-in-github",
        "colab_type": "text"
      },
      "source": [
        "<a href=\"https://colab.research.google.com/github/Kanka-max/JanuaryClass/blob/main/Convolutional_Neural_Networks.ipynb\" target=\"_parent\"><img src=\"https://colab.research.google.com/assets/colab-badge.svg\" alt=\"Open In Colab\"/></a>"
      ]
    },
    {
      "cell_type": "code",
      "execution_count": null,
      "metadata": {
        "id": "prVwuVXDlTWR"
      },
      "outputs": [],
      "source": [
        "import tensorflow"
      ]
    },
    {
      "cell_type": "markdown",
      "metadata": {
        "id": "ZDEmtMtjlZw7"
      },
      "source": [
        "**Image Classification with the MNIST Dataset**"
      ]
    },
    {
      "cell_type": "code",
      "execution_count": null,
      "metadata": {
        "id": "KPq7MiRGljNM"
      },
      "outputs": [],
      "source": [
        "from tensorflow.keras.datasets import mnist"
      ]
    },
    {
      "cell_type": "markdown",
      "metadata": {
        "id": "TzdSzYzSlm_M"
      },
      "source": [
        "**The Problem: Image Classification**\n",
        "\n",
        "In traditional programming, the programmer is able to articulate rules and conditions in their code that their program can then use to act in the correct way. This approach continues to work exceptionally well for a huge variety of problems.\n",
        "\n",
        "Image classification, which asks a program to correctly classify an image it has never seen before into its correct class, is near impossible to solve with traditional programming techniques. How could a programmer possibly define the rules and conditions to correctly classify a huge variety of images, especially taking into account images that they have never seen?"
      ]
    },
    {
      "cell_type": "markdown",
      "metadata": {
        "id": "A5y1vmkdlyf1"
      },
      "source": [
        "**The Solution: Deep Learning**\n",
        "\n",
        "Deep learning excels at pattern recognition by trial and error. By training a deep neural network with sufficient data, and providing the network with feedback on its performance via training, the network can identify, though a huge amount of iteration, its own set of conditions by which it can act in the correct way.\n",
        "\n"
      ]
    },
    {
      "cell_type": "markdown",
      "metadata": {
        "id": "WA-ngwFfl72x"
      },
      "source": [
        "**The MNIST Dataset**\n",
        "\n",
        "In the history of deep learning, the accurate image classification of the MNSIT dataset, a collection of 70,000 grayscale images of handwritten digits from 0 to 9, was a major development. While today the problem is considered trivial, doing image classification with MNIST has become a kind of \"Hello World\" for deep learning."
      ]
    },
    {
      "cell_type": "markdown",
      "metadata": {
        "id": "Rk5rxmiwmErR"
      },
      "source": [
        "Loading the Data Into Memory (with Keras)"
      ]
    },
    {
      "cell_type": "code",
      "execution_count": null,
      "metadata": {
        "id": "M6xgirZ8oC26"
      },
      "outputs": [],
      "source": [
        "from tensorflow.keras.datasets import mnist"
      ]
    },
    {
      "cell_type": "code",
      "execution_count": null,
      "metadata": {
        "id": "0l-tAMau-zpg",
        "colab": {
          "base_uri": "https://localhost:8080/"
        },
        "outputId": "043f95f4-ec0c-4774-8fd6-73d2e13be2f8"
      },
      "outputs": [
        {
          "output_type": "stream",
          "name": "stdout",
          "text": [
            "Downloading data from https://storage.googleapis.com/tensorflow/tf-keras-datasets/mnist.npz\n",
            "11493376/11490434 [==============================] - 0s 0us/step\n",
            "11501568/11490434 [==============================] - 0s 0us/step\n"
          ]
        }
      ],
      "source": [
        "#the data, split between train and validation sets\n",
        "(x_train, y_train), (x_valid, y_valid)=mnist.load_data()"
      ]
    },
    {
      "cell_type": "code",
      "execution_count": null,
      "metadata": {
        "id": "6ltdQamj-z1x"
      },
      "outputs": [],
      "source": [
        ""
      ]
    },
    {
      "cell_type": "markdown",
      "metadata": {
        "id": "SxVF9_u8-02D"
      },
      "source": [
        "**Exploring the MNIST Data**"
      ]
    },
    {
      "cell_type": "code",
      "execution_count": null,
      "metadata": {
        "id": "7DIOgDVw_ajr",
        "outputId": "a8c28570-f89b-4029-cc53-d282a0d4c484",
        "colab": {
          "base_uri": "https://localhost:8080/"
        }
      },
      "outputs": [
        {
          "output_type": "execute_result",
          "data": {
            "text/plain": [
              "(60000, 28, 28)"
            ]
          },
          "metadata": {},
          "execution_count": 5
        }
      ],
      "source": [
        "x_train.shape"
      ]
    },
    {
      "cell_type": "code",
      "execution_count": null,
      "metadata": {
        "id": "-oZem_ZD_a7p",
        "outputId": "068969e6-4445-440c-b811-09c6898499a0",
        "colab": {
          "base_uri": "https://localhost:8080/"
        }
      },
      "outputs": [
        {
          "output_type": "execute_result",
          "data": {
            "text/plain": [
              "(10000, 28, 28)"
            ]
          },
          "metadata": {},
          "execution_count": 6
        }
      ],
      "source": [
        "x_valid.shape"
      ]
    },
    {
      "cell_type": "code",
      "execution_count": null,
      "metadata": {
        "id": "Neet3eufcaV0",
        "outputId": "bc506118-b39f-47ac-c08a-db564a9f0a68"
      },
      "outputs": [
        {
          "data": {
            "text/plain": [
              "(60000,)"
            ]
          },
          "execution_count": 39,
          "metadata": {},
          "output_type": "execute_result"
        }
      ],
      "source": [
        "y_train.shape"
      ]
    },
    {
      "cell_type": "code",
      "execution_count": null,
      "metadata": {
        "id": "Dt1owkz8caV2",
        "outputId": "b88d5bd1-3cb7-497d-ac87-525529e3a99c"
      },
      "outputs": [
        {
          "data": {
            "text/plain": [
              "(10000,)"
            ]
          },
          "execution_count": 40,
          "metadata": {},
          "output_type": "execute_result"
        }
      ],
      "source": [
        "y_valid.shape"
      ]
    },
    {
      "cell_type": "markdown",
      "metadata": {
        "id": "lw1IjlKCcaV3"
      },
      "source": [
        "This images are 28x28 images represented as a collection of unsingned 8-bit integer values between 0 and 255, the values corresponding with a pixel's grayscale value where 0 is black 255 is white, and all other values are in between."
      ]
    },
    {
      "cell_type": "code",
      "execution_count": null,
      "metadata": {
        "id": "McdvvIIjcaV5"
      },
      "outputs": [],
      "source": [
        ""
      ]
    },
    {
      "cell_type": "markdown",
      "metadata": {
        "id": "S-dIIItz_bts"
      },
      "source": [
        "**Preparing the Data for Training**\n",
        "\n",
        "In deep learning, it is common that data needs to be transformed to be in the ideal state for training. For this particular image classification problem, there are 3 tasks we should perform with the data in preparation for training:\n",
        "\n",
        "- Flatten the image data, to simplify the image input into the model.\n",
        "- Normalize the image data, to make the image input values easier to work with for the model\n",
        "- Categorize the labels, to make the label values easier to work with for the model"
      ]
    },
    {
      "cell_type": "code",
      "execution_count": null,
      "metadata": {
        "id": "WsJW4Uq0AxRf"
      },
      "outputs": [],
      "source": [
        "x_train=x_train.reshape(60000,(28*28)) #784=28*28\n",
        "x_valid=x_valid.reshape(10000,(28*28))"
      ]
    },
    {
      "cell_type": "code",
      "execution_count": null,
      "metadata": {
        "id": "cy4dS0emAxmk",
        "outputId": "9bea27c8-4613-4192-d301-91344f37ca38"
      },
      "outputs": [
        {
          "data": {
            "text/plain": [
              "(60000, 784)"
            ]
          },
          "execution_count": 42,
          "metadata": {},
          "output_type": "execute_result"
        }
      ],
      "source": [
        "x_train.shape"
      ]
    },
    {
      "cell_type": "code",
      "execution_count": null,
      "metadata": {
        "id": "ykPPuSmGcaWA",
        "outputId": "2a9f0318-6199-4870-e65c-4d75202abac1"
      },
      "outputs": [
        {
          "data": {
            "text/plain": [
              "(10000, 784)"
            ]
          },
          "execution_count": 43,
          "metadata": {},
          "output_type": "execute_result"
        }
      ],
      "source": [
        "x_valid.shape"
      ]
    },
    {
      "cell_type": "code",
      "execution_count": null,
      "metadata": {
        "id": "XOvcriNrcaWE",
        "outputId": "ae66f398-6545-4048-c834-3eba6687ba14"
      },
      "outputs": [
        {
          "data": {
            "text/plain": [
              "array([  0,   0,   0,   0,   0,   0,   0,   0,   0,   0,   0,   0,   0,\n",
              "         0,   0,   0,   0,   0,   0,   0,   0,   0,   0,   0,   0,   0,\n",
              "         0,   0,   0,   0,   0,   0,   0,   0,   0,   0,   0,   0,   0,\n",
              "         0,   0,   0,   0,   0,   0,   0,   0,   0,   0,   0,   0,   0,\n",
              "         0,   0,   0,   0,   0,   0,   0,   0,   0,   0,   0,   0,   0,\n",
              "         0,   0,   0,   0,   0,   0,   0,   0,   0,   0,   0,   0,   0,\n",
              "         0,   0,   0,   0,   0,   0,   0,   0,   0,   0,   0,   0,   0,\n",
              "         0,   0,   0,   0,   0,   0,   0,   0,   0,   0,   0,   0,   0,\n",
              "         0,   0,   0,   0,   0,   0,   0,   0,   0,   0,   0,   0,   0,\n",
              "         0,   0,   0,   0,   0,   0,   0,   0,   0,   0,   0,   0,   0,\n",
              "         0,   0,   0,   0,   0,   0,   0,   0,   0,   0,   0,   0,   0,\n",
              "         0,   0,   0,   0,   0,   0,   0,   0,   0,   0,   0,  36, 146,\n",
              "       254, 255, 251,  95,   6,   0,   0,   0,   0,   0,   0,   0,   0,\n",
              "         0,   0,   0,   0,   0,   0,   0,   0,   0,   0,   0,   3,  97,\n",
              "       234, 254, 254, 232, 254, 254,  35,   0,   0,   0,   0,   0,   0,\n",
              "         0,   0,   0,   0,   0,   0,   0,   0,   0,   0,   0,   0,  89,\n",
              "       140, 254, 254, 174,  67,  33, 200, 254, 190,   0,   0,   0,   0,\n",
              "         0,   0,   0,   0,   0,   0,   0,   0,   0,   0,   0,   0,   0,\n",
              "       108, 253, 254, 235,  51,   1,   0,   0,  12, 254, 253,  56,   0,\n",
              "         0,   0,   0,   0,   0,   0,   0,   0,   0,   0,   0,   0,   0,\n",
              "         0,  12, 216, 254, 244,  55,   0,   0,   0,   0,   6, 213, 254,\n",
              "        57,   0,   0,   0,   0,   0,   0,   0,   0,   0,   0,   0,   0,\n",
              "         0,   0,   0,  25, 254, 254, 132,   0,   0,   0,   0,   0,   0,\n",
              "       168, 254,  57,   0,   0,   0,   0,   0,   0,   0,   0,   0,   0,\n",
              "         0,   0,   0,   0,   0,  45, 254, 243,  34,   0,   0,   0,   0,\n",
              "         0,   0, 168, 254,  57,   0,   0,   0,   0,   0,   0,   0,   0,\n",
              "         0,   0,   0,   0,   0,   0,   0, 128, 254, 157,   0,   0,   0,\n",
              "         0,   0,   0,   0, 168, 254,  57,   0,   0,   0,   0,   0,   0,\n",
              "         0,   0,   0,   0,   0,   0,   0,   0,  19, 228, 254, 105,   0,\n",
              "         0,   0,   0,   0,   0,   7, 228, 254,  57,   0,   0,   0,   0,\n",
              "         0,   0,   0,   0,   0,   0,   0,   0,   0,   0,  58, 254, 254,\n",
              "        87,   0,   0,   0,   0,   0,   0,  10, 254, 246,  47,   0,   0,\n",
              "         0,   0,   0,   0,   0,   0,   0,   0,   0,   0,   0,   0,  58,\n",
              "       254, 254,   9,   0,   0,   0,   0,   0,   0,  10, 254, 210,   0,\n",
              "         0,   0,   0,   0,   0,   0,   0,   0,   0,   0,   0,   0,   0,\n",
              "         0,  58, 254, 254,   9,   0,   0,   0,   0,   0,   0, 105, 254,\n",
              "        91,   0,   0,   0,   0,   0,   0,   0,   0,   0,   0,   0,   0,\n",
              "         0,   0,   0,   5, 219, 254,   9,   0,   0,   0,   0,   0,  24,\n",
              "       230, 254,  24,   0,   0,   0,   0,   0,   0,   0,   0,   0,   0,\n",
              "         0,   0,   0,   0,   0,   0, 216, 254,   9,   0,   0,   0,   0,\n",
              "         0,  84, 254, 251,  23,   0,   0,   0,   0,   0,   0,   0,   0,\n",
              "         0,   0,   0,   0,   0,   0,   0,   0, 216, 254,  36,   0,   0,\n",
              "         0,   0,  22, 208, 251,  94,   0,   0,   0,   0,   0,   0,   0,\n",
              "         0,   0,   0,   0,   0,   0,   0,   0,   0,   0, 129, 254, 120,\n",
              "         0,   0,   0,   3, 140, 254, 229,   0,   0,   0,   0,   0,   0,\n",
              "         0,   0,   0,   0,   0,   0,   0,   0,   0,   0,   0,   0,  83,\n",
              "       254, 222,  17,   0,   0,  91, 254, 236,  53,   0,   0,   0,   0,\n",
              "         0,   0,   0,   0,   0,   0,   0,   0,   0,   0,   0,   0,   0,\n",
              "         0,  18, 235, 254, 134,  21, 119, 237, 254, 124,   0,   0,   0,\n",
              "         0,   0,   0,   0,   0,   0,   0,   0,   0,   0,   0,   0,   0,\n",
              "         0,   0,   0,   0,  53, 249, 254, 234, 252, 254, 172,   3,   0,\n",
              "         0,   0,   0,   0,   0,   0,   0,   0,   0,   0,   0,   0,   0,\n",
              "         0,   0,   0,   0,   0,   0,   0, 116, 237, 254, 254, 133,  20,\n",
              "         0,   0,   0,   0,   0,   0,   0,   0,   0,   0,   0,   0,   0,\n",
              "         0,   0,   0,   0,   0,   0,   0,   0,   0,   0,   0,   0,   0,\n",
              "         0,   0,   0,   0,   0,   0,   0,   0,   0,   0,   0,   0,   0,\n",
              "         0,   0,   0,   0,   0,   0,   0,   0,   0,   0,   0,   0,   0,\n",
              "         0,   0,   0,   0,   0,   0,   0,   0,   0,   0,   0,   0,   0,\n",
              "         0,   0,   0,   0,   0,   0,   0,   0,   0,   0,   0,   0,   0,\n",
              "         0,   0,   0,   0,   0,   0,   0,   0,   0,   0,   0,   0,   0,\n",
              "         0,   0,   0,   0], dtype=uint8)"
            ]
          },
          "execution_count": 44,
          "metadata": {},
          "output_type": "execute_result"
        }
      ],
      "source": [
        "x_train[1000]"
      ]
    },
    {
      "cell_type": "code",
      "execution_count": null,
      "metadata": {
        "id": "m5ajmEM-caWG",
        "outputId": "ec76fa76-a00d-4dbe-d83f-85b0d9bfe742"
      },
      "outputs": [
        {
          "data": {
            "text/plain": [
              "array([  0,   0,   0,   0,   0,   0,   0,   0,   0,   0,   0,   0,   0,\n",
              "         0,   0,   0,   0,   0,   0,   0,   0,   0,   0,   0,   0,   0,\n",
              "         0,   0,   0,   0,   0,   0,   0,   0,   0,   0,   0,   0,   0,\n",
              "         0,   0,   0,   0,   0,   0,   0,   0,   0,   0,   0,   0,   0,\n",
              "         0,   0,   0,   0,   0,   0,   0,   0,   0,   0,   0,   0,   0,\n",
              "         0,   0,   0,   0,   0,   0,   0,   0,   0,   0,   0,   0,   0,\n",
              "         0,   0,   0,   0,   0,   0,   0,   0,   0,   0,   0,   0,   0,\n",
              "         0,   0,   0,   0,   0,   0,   0,   0,   0,   0,   0,   0,   0,\n",
              "         0,   0,   0,   0,   0,   0,   0,   0,   0,   0,   0,   0,   0,\n",
              "         0,   0,   0,   0,   0,   0,   0,   0,   0,   0,   0,   0,   0,\n",
              "         0,   0,   0,   0,   0,   0,   0,   0,   0,   0,   0,   0,   0,\n",
              "         0,   0,   0,   0,   0,   0,   0,   0,   0,   0,   0,   0,   0,\n",
              "         0,   0,   0,   0,   0,   0,   0,   0,   0,   0,   0,   0,   0,\n",
              "         0,   0,   0,   0,   0,   0,   0,   0,   0,   0,   0,   0,   0,\n",
              "         0,  70, 202, 255, 126,   2,   0,   0,   0,   0,   0,   0,   0,\n",
              "         0,   0,   0,   0,   0,   0,   0,   0,   0,   0,   0,   0,   0,\n",
              "         0,   0,  72, 239, 253, 253, 253,  10,   0,   0,   0,   0,   0,\n",
              "         0,   0,   0,   0,   0,   0,   0,   0,   0,   0,   0,   0,   0,\n",
              "         0,   0,   0,  17, 242, 253, 193, 166, 253,  13,   0,   0,   0,\n",
              "         0,   0,   0,   0,   0,   0,   0,   0,   0,   0,   0,   0,   0,\n",
              "         0,   0,   0,   0,  52, 202, 253, 180,   7,  60, 253, 119,   0,\n",
              "         0,   0,   0,   0,   0,   0,   0,   0,   0,   0,   0,   0,   0,\n",
              "         0,   0,   0,   0,   0,  72, 211, 248, 103,  14,   0,  60, 253,\n",
              "       153,   0,   0,   0,   0,   0,   0,   0,   0,   0,   0,   0,   0,\n",
              "         0,   0,   0,   0,   0,   0,  66, 244, 250, 134,   0,   9, 123,\n",
              "       233, 253, 175,   0,   0,   0,   0,   0,   0,   0,   0,   0,   0,\n",
              "         0,   0,   0,   0,   0,   0,   0,  16, 232, 253, 146,  52, 157,\n",
              "       233, 253, 253, 253,  52,   0,   0,   0,   0,   0,   0,   0,   0,\n",
              "         0,   0,   0,   0,   0,   0,   0,   0,   0,  54, 245, 253, 208,\n",
              "       249, 253, 253, 253, 253, 220,   7,   0,   0,   0,   0,   0,   0,\n",
              "         0,   0,   0,   0,   0,   0,   0,   0,   0,   0,   0,   0, 220,\n",
              "       253, 253, 240, 253, 253, 252, 186,  13,   0,   0,   0,   0,   0,\n",
              "         0,   0,   0,   0,   0,   0,   0,   0,   0,   0,   0,   0,   0,\n",
              "         0,  43,  92,  92,  47, 253, 253, 139,   0,   0,   0,   0,   0,\n",
              "         0,   0,   0,   0,   0,   0,   0,   0,   0,   0,   0,   0,   0,\n",
              "         0,   0,   0,   0,   0,   0, 164, 253, 141,   4,   0,   0,   0,\n",
              "         0,   0,   0,   0,   0,   0,   0,   0,   0,   0,   0,   0,   0,\n",
              "         0,   0,   0,   0,   0,   0,   0,  82, 252, 253,  54,   0,   0,\n",
              "         0,   0,   0,   0,   0,   0,   0,   0,   0,   0,   0,   0,   0,\n",
              "         0,   0,   0,   0,   0,   0,   0,   0,   0, 158, 253, 217,  18,\n",
              "         0,   0,   0,   0,   0,   0,   0,   0,   0,   0,   0,   0,   0,\n",
              "         0,   0,   0,   0,   0,   0,   0,   0,   0,   0,  40, 242, 247,\n",
              "        77,   0,   0,   0,   0,   0,   0,   0,   0,   0,   0,   0,   0,\n",
              "         0,   0,   0,   0,   0,   0,   0,   0,   0,   0,   0,   0, 153,\n",
              "       253, 226,   0,   0,   0,   0,   0,   0,   0,   0,   0,   0,   0,\n",
              "         0,   0,   0,   0,   0,   0,   0,   0,   0,   0,   0,   0,   0,\n",
              "         8, 223, 253, 102,   0,   0,   0,   0,   0,   0,   0,   0,   0,\n",
              "         0,   0,   0,   0,   0,   0,   0,   0,   0,   0,   0,   0,   0,\n",
              "         0,   0,  11, 253, 253,  21,   0,   0,   0,   0,   0,   0,   0,\n",
              "         0,   0,   0,   0,   0,   0,   0,   0,   0,   0,   0,   0,   0,\n",
              "         0,   0,   0,   0, 118, 253, 253,  58, 118,  54,   0,   0,   0,\n",
              "         0,   0,   0,   0,   0,   0,   0,   0,   0,   0,   0,   0,   0,\n",
              "         0,   0,   0,   0,   0,   0,  43, 253, 253, 253, 238,  39,   0,\n",
              "         0,   0,   0,   0,   0,   0,   0,   0,   0,   0,   0,   0,   0,\n",
              "         0,   0,   0,   0,   0,   0,   0,   0,   2, 171, 253, 200,  68,\n",
              "         0,   0,   0,   0,   0,   0,   0,   0,   0,   0,   0,   0,   0,\n",
              "         0,   0,   0,   0,   0,   0,   0,   0,   0,   0,   0,   0,   0,\n",
              "         0,   0,   0,   0,   0,   0,   0,   0,   0,   0,   0,   0,   0,\n",
              "         0,   0,   0,   0,   0,   0,   0,   0,   0,   0,   0,   0,   0,\n",
              "         0,   0,   0,   0,   0,   0,   0,   0,   0,   0,   0,   0,   0,\n",
              "         0,   0,   0,   0], dtype=uint8)"
            ]
          },
          "execution_count": 45,
          "metadata": {},
          "output_type": "execute_result"
        }
      ],
      "source": [
        "x_valid[78]"
      ]
    },
    {
      "cell_type": "code",
      "execution_count": null,
      "metadata": {
        "id": "YxdR9fXLcaWI"
      },
      "outputs": [],
      "source": [
        ""
      ]
    },
    {
      "cell_type": "markdown",
      "metadata": {
        "id": "CpoUNWe4AyLf"
      },
      "source": [
        "**Flattening the Image Data**\n",
        "\n",
        "Though it's possible for a deep learning model to accept a 2-dimensional image (in our case 28x28 pixels), we're going to simplify things to start and reshape each image into a single array of 784 continuous pixels (note: 28x28 = 784). This is also called flattening the image.\n",
        "\n",
        "Here we accomplish this using the helper method reshape:"
      ]
    },
    {
      "cell_type": "code",
      "execution_count": null,
      "metadata": {
        "id": "07OcCXF6BJnz"
      },
      "outputs": [],
      "source": [
        ""
      ]
    },
    {
      "cell_type": "code",
      "execution_count": null,
      "metadata": {
        "id": "tkT4COlVBbCW"
      },
      "outputs": [],
      "source": [
        ""
      ]
    },
    {
      "cell_type": "code",
      "execution_count": null,
      "metadata": {
        "id": "pXxgyyViBbRb"
      },
      "outputs": [],
      "source": [
        ""
      ]
    },
    {
      "cell_type": "markdown",
      "metadata": {
        "id": "S9WSn7aRBbuj"
      },
      "source": [
        "**Normalizing the Image Data**\n",
        "\n",
        "Deep learning models are better at dealing with floating point numbers between 0 and 1 (more on this topic later). Converting integer values to floating point values between 0 and 1 is called normalization, and a simple approach we will take here to normalize the data will be to divide all the pixel values (which if you recall are between 0 and 255) by 255:"
      ]
    },
    {
      "cell_type": "code",
      "execution_count": null,
      "metadata": {
        "id": "Vvqtw53UBgeZ"
      },
      "outputs": [],
      "source": [
        "x_train=x_train/255\n",
        "x_valid=x_valid/255"
      ]
    },
    {
      "cell_type": "code",
      "execution_count": null,
      "metadata": {
        "id": "G2d3IibuBle3",
        "outputId": "e9c2f716-a9c1-4ffd-c450-e29fe0aa05aa"
      },
      "outputs": [
        {
          "data": {
            "text/plain": [
              "dtype('float64')"
            ]
          },
          "execution_count": 47,
          "metadata": {},
          "output_type": "execute_result"
        }
      ],
      "source": [
        "x_train.dtype"
      ]
    },
    {
      "cell_type": "code",
      "execution_count": null,
      "metadata": {
        "id": "to1eCut2Blr2",
        "outputId": "29dbbf07-3948-4dd6-e8b5-a6f0b000a098"
      },
      "outputs": [
        {
          "data": {
            "text/plain": [
              "dtype('float64')"
            ]
          },
          "execution_count": 48,
          "metadata": {},
          "output_type": "execute_result"
        }
      ],
      "source": [
        "x_valid.dtype"
      ]
    },
    {
      "cell_type": "code",
      "execution_count": null,
      "metadata": {
        "id": "DB7FV3WMcaWh",
        "outputId": "b4a6e980-791d-4586-c873-6a307c0a7d24"
      },
      "outputs": [
        {
          "data": {
            "text/plain": [
              "1.0"
            ]
          },
          "execution_count": 49,
          "metadata": {},
          "output_type": "execute_result"
        }
      ],
      "source": [
        "x_valid.max()"
      ]
    },
    {
      "cell_type": "markdown",
      "metadata": {
        "id": "eJ_2_G7jBmDT"
      },
      "source": [
        "**Categorically Encoding the Labels**"
      ]
    },
    {
      "cell_type": "code",
      "execution_count": null,
      "metadata": {
        "id": "nPjIDIVxBof9"
      },
      "outputs": [],
      "source": [
        "import tensorflow.keras as keras\n",
        "\n",
        "num_categories=10\n",
        "\n",
        "y_train=keras.utils.to_categorical(y_train, num_categories)\n",
        "y_valid=keras.utils.to_categorical(y_valid, num_categories)\n",
        "\n"
      ]
    },
    {
      "cell_type": "code",
      "execution_count": null,
      "metadata": {
        "id": "F-g0mNU6caWs"
      },
      "outputs": [],
      "source": [
        ""
      ]
    },
    {
      "cell_type": "code",
      "execution_count": null,
      "metadata": {
        "id": "xBhhnglCcaWu"
      },
      "outputs": [],
      "source": [
        "#x_train=x_train.reshape(60000,(230400) #230400=480*480 \n",
        "#x_valid=x_valid.reshape(10000,230400)"
      ]
    },
    {
      "cell_type": "code",
      "execution_count": null,
      "metadata": {
        "id": "soWEieFxBz88"
      },
      "outputs": [],
      "source": [
        "\n",
        "#categories=2\n",
        "\n",
        "#y_train=keras.utils.to_categories(y_train, categories)\n",
        "#y_valid=kera.utils.to_categories(y_valid, categories)"
      ]
    },
    {
      "cell_type": "markdown",
      "metadata": {
        "id": "cX2qf5-KB0QD"
      },
      "source": [
        "**Creating the Model**\n",
        "\n",
        "With the data prepared for training, it is now time to create the model that we will train with the data. This first basic model will be made up of several layers and will be comprised of 3 main parts:\n",
        "\n",
        "An input layer, which will receive data in some expected format\n",
        "Several hidden layers, each comprised of many neurons. Each neuron will have the ability to affect the network's guess with its weights, which are values that will be updated over many iterations as the network gets feedback on its performance and learns\n",
        "An output layer, which will depict the network's guess for a given image"
      ]
    },
    {
      "cell_type": "code",
      "execution_count": null,
      "metadata": {
        "id": "-Clolmy2B73m"
      },
      "outputs": [],
      "source": [
        ""
      ]
    },
    {
      "cell_type": "code",
      "execution_count": null,
      "metadata": {
        "id": "tjuxDliHB8Dm"
      },
      "outputs": [],
      "source": [
        ""
      ]
    },
    {
      "cell_type": "markdown",
      "metadata": {
        "id": "WHsk-ogjB8W6"
      },
      "source": [
        "**Instantiating the Model**"
      ]
    },
    {
      "cell_type": "code",
      "execution_count": null,
      "metadata": {
        "id": "Xf1XETxzB9zX"
      },
      "outputs": [],
      "source": [
        "from tensorflow.keras.models import Sequential\n",
        "\n",
        "#initialize the constructor\n",
        "\n",
        "model=Sequential()"
      ]
    },
    {
      "cell_type": "markdown",
      "metadata": {
        "id": "M3ZMKfRycaW5"
      },
      "source": [
        "**creating an input layer**"
      ]
    },
    {
      "cell_type": "code",
      "execution_count": 25,
      "metadata": {
        "id": "VQeyGFhYcaW6"
      },
      "outputs": [],
      "source": [
        "from tensorflow.keras.layers import Dense, Dropout, Conv2D, MaxPooling2D, Flatten, Activation"
      ]
    },
    {
      "cell_type": "code",
      "execution_count": null,
      "metadata": {
        "id": "-gMnXRNccaW7"
      },
      "outputs": [],
      "source": [
        "model.add(Dense(units= 512, activation=\"relu\", input_shape=(784,)))"
      ]
    },
    {
      "cell_type": "markdown",
      "metadata": {
        "id": "9c6xmgJOcaW8"
      },
      "source": [
        "**Creating a Hidden layer**"
      ]
    },
    {
      "cell_type": "code",
      "execution_count": null,
      "metadata": {
        "id": "iE4PrhYocaW9"
      },
      "outputs": [],
      "source": [
        "model.add(Dense(units= 512, activation =\"relu\"))\n",
        "model.add(Dense(units= 512, activation =\"relu\"))\n",
        "model.add(Dense(units= 512, activation =\"relu\"))"
      ]
    },
    {
      "cell_type": "code",
      "source": [
        "# Alternative network\n",
        "from tensorflow.keras.layers import Dense, Dropout, Conv2D, MaxPooling2D, Flatten, Activation\n",
        "\n",
        "model.add(Conv2D(filters=32, kernel_size=(3,3), input_shape=(784), activation=\"relu\"))\n",
        "model.add(MaxPooling2D(pool_size=(2,2)))\n",
        "\n",
        "model.add(Conv2D(filters=64, kernel_size=(3,3), input_shape=(784), activation=\"relu\"))\n",
        "model.add(MaxPooling2D(pool_size=(2,2)))\n",
        "\n",
        "model.add(Flatten())\n",
        "\n",
        "model.add(Dense(128))\n",
        "model.Activation(\"relu\")\n",
        "\n",
        "model.add(Dropout(0.5))\n",
        "\n",
        "model.add(Activation(\"softmax\"))"
      ],
      "metadata": {
        "id": "-GfAWH81mV6n"
      },
      "execution_count": null,
      "outputs": []
    },
    {
      "cell_type": "code",
      "execution_count": null,
      "metadata": {
        "id": "pnhLEMcOcaW-"
      },
      "outputs": [],
      "source": [
        "#eXtra hidden layer\n",
        "model.add(Dense(units=512, activation = \"relu\"))"
      ]
    },
    {
      "cell_type": "markdown",
      "metadata": {
        "id": "MCAiG2sFcaW_"
      },
      "source": [
        "**Creating an Output layer**"
      ]
    },
    {
      "cell_type": "code",
      "execution_count": null,
      "metadata": {
        "id": "XcfjClSqcaXA"
      },
      "outputs": [],
      "source": [
        "model.add(Dense(units= 10, activation =\"softmax\"))"
      ]
    },
    {
      "cell_type": "markdown",
      "metadata": {
        "id": "m9y5Fhe6CCto"
      },
      "source": [
        "**Summarizing the Model**"
      ]
    },
    {
      "cell_type": "code",
      "execution_count": null,
      "metadata": {
        "id": "EDJ2lwTBCKY8",
        "outputId": "beb5ef2e-08cd-4d8a-f577-022d660903f7"
      },
      "outputs": [
        {
          "name": "stdout",
          "output_type": "stream",
          "text": [
            "Model: \"sequential_1\"\n",
            "_________________________________________________________________\n",
            " Layer (type)                Output Shape              Param #   \n",
            "=================================================================\n",
            " dense_7 (Dense)             (None, 512)               401920    \n",
            "                                                                 \n",
            " dense_8 (Dense)             (None, 512)               262656    \n",
            "                                                                 \n",
            " dense_9 (Dense)             (None, 512)               262656    \n",
            "                                                                 \n",
            " dense_10 (Dense)            (None, 10)                5130      \n",
            "                                                                 \n",
            "=================================================================\n",
            "Total params: 932,362\n",
            "Trainable params: 932,362\n",
            "Non-trainable params: 0\n",
            "_________________________________________________________________\n"
          ]
        }
      ],
      "source": [
        "model.summary()"
      ]
    },
    {
      "cell_type": "code",
      "execution_count": null,
      "metadata": {
        "id": "Bu998iiyCKbk"
      },
      "outputs": [],
      "source": [
        ""
      ]
    },
    {
      "cell_type": "markdown",
      "metadata": {
        "id": "tn9QmKAYCLNn"
      },
      "source": [
        "**Compiling the Model**"
      ]
    },
    {
      "cell_type": "code",
      "execution_count": null,
      "metadata": {
        "id": "YrGvVerYCNO-"
      },
      "outputs": [],
      "source": [
        "# loss_funtion is used for the model to understand how wll it is performing during training\n",
        "# what would like tot rack while the model trains\n",
        "# FOR a multi-class - categorical_crossentropy - loss fx\n",
        "# FOR a binary class - binary_corssentropy\n",
        "\n",
        "#metric depends on the deep learning use case\n",
        "# classification problem - accuracy\n",
        "# regression problem =mean squared erro (mse), root mean squared error (rmse)\n",
        "\n",
        "\n",
        "# training score vs the validation score = loss function \n",
        "# reduce overfitting whereby the training score is significatntly higher thatn the validation score\n",
        "\n",
        "# gradient descent\n",
        "# converge the gradient using optimizers\n",
        "# adam, adagrad, rmsprop, adadelta\n",
        "# adam and rmsprop\n"
      ]
    },
    {
      "cell_type": "code",
      "execution_count": null,
      "metadata": {
        "id": "4uman319CStI"
      },
      "outputs": [],
      "source": [
        "model.compile(optimizer = \"adam\", loss=\"categorical_crossentropy\", metrics= \"accuracy\") #because it has multiple categories"
      ]
    },
    {
      "cell_type": "code",
      "execution_count": null,
      "metadata": {
        "id": "Anjv5hixCS7k"
      },
      "outputs": [],
      "source": [
        "#underfitting \n",
        "# 3 iterations\n",
        "# training score is loweer than the validation score\n",
        "# training score is not improving with increase in iteration\n",
        "\n",
        "\n",
        "#Overfitting\n",
        "# trainig score is higer than the validation score\n",
        "# the validation score is not improving with increase in no of iterations"
      ]
    },
    {
      "cell_type": "markdown",
      "metadata": {
        "id": "um7odRA3CTER"
      },
      "source": [
        "**Training the Model**\n",
        "\n",
        "When fitting (training) a model with Keras, we use the model's fit method. It expects the following arguments:\n",
        "\n",
        "- The training data\n",
        "- The labels for the training data\n",
        "- The number of times it should train on the entire training dataset (called an epoch)\n",
        "- The validation or test data, and its labels"
      ]
    },
    {
      "cell_type": "code",
      "execution_count": null,
      "metadata": {
        "id": "Wk84XVOxCcUD",
        "outputId": "9cf32240-2d32-44b6-b1c4-a1bbf48c6d3d",
        "colab": {
          "base_uri": "https://localhost:8080/"
        }
      },
      "outputs": [
        {
          "output_type": "stream",
          "name": "stdout",
          "text": [
            "Epoch 1/5\n",
            "1875/1875 [==============================] - 22s 11ms/step - loss: 0.1985 - accuracy: 0.9390 - val_loss: 0.0978 - val_accuracy: 0.9707\n",
            "Epoch 2/5\n",
            "1875/1875 [==============================] - 21s 11ms/step - loss: 0.0928 - accuracy: 0.9718 - val_loss: 0.1083 - val_accuracy: 0.9699\n",
            "Epoch 3/5\n",
            "1875/1875 [==============================] - 21s 11ms/step - loss: 0.0668 - accuracy: 0.9795 - val_loss: 0.0792 - val_accuracy: 0.9772\n",
            "Epoch 4/5\n",
            "1875/1875 [==============================] - 21s 11ms/step - loss: 0.0544 - accuracy: 0.9837 - val_loss: 0.1129 - val_accuracy: 0.9714\n",
            "Epoch 5/5\n",
            "1875/1875 [==============================] - 21s 11ms/step - loss: 0.0440 - accuracy: 0.9873 - val_loss: 0.0775 - val_accuracy: 0.9785\n"
          ]
        },
        {
          "output_type": "execute_result",
          "data": {
            "text/plain": [
              "<keras.callbacks.History at 0x7fc3eb838690>"
            ]
          },
          "metadata": {},
          "execution_count": 19
        }
      ],
      "source": [
        "history = model.fit(x_train, y_train, epochs =5, verbose=1, validation_data= (x_valid, y_valid))\n",
        "history"
      ]
    },
    {
      "cell_type": "code",
      "source": [
        "%%time\n",
        "# stop training when a monitored metric stops improving\n",
        "\n",
        "from tensorflow.keras.callbacks import EarlyStopping\n",
        "\n",
        "early_stop = EarlyStopping(monitor = \"val_loss\", patience = 2)\n",
        "\n",
        "# fit the model\n",
        "model.fit(x_train, y_train, \n",
        "          epochs =10, verbose=1, \n",
        "          validation_data= (x_valid, y_valid), \n",
        "          callbacks=[early_stop])\n"
      ],
      "metadata": {
        "id": "XH9SN_HOgHoe",
        "colab": {
          "base_uri": "https://localhost:8080/"
        },
        "outputId": "24531946-8c17-4381-ee57-fd7e0ccc3a06"
      },
      "execution_count": 22,
      "outputs": [
        {
          "output_type": "stream",
          "name": "stdout",
          "text": [
            "Epoch 1/10\n",
            "1875/1875 [==============================] - 21s 11ms/step - loss: 0.0265 - accuracy: 0.9922 - val_loss: 0.0814 - val_accuracy: 0.9823\n",
            "Epoch 2/10\n",
            "1875/1875 [==============================] - 22s 11ms/step - loss: 0.0233 - accuracy: 0.9932 - val_loss: 0.0994 - val_accuracy: 0.9786\n",
            "Epoch 3/10\n",
            "1875/1875 [==============================] - 21s 11ms/step - loss: 0.0226 - accuracy: 0.9938 - val_loss: 0.1161 - val_accuracy: 0.9771\n",
            "CPU times: user 1min 36s, sys: 5.96 s, total: 1min 42s\n",
            "Wall time: 1min 3s\n"
          ]
        }
      ]
    },
    {
      "cell_type": "code",
      "source": [
        "# visualize the training performance versus the validation perfromance\n",
        "import pandas as pd\n",
        "losses = pd.DataFrame(model.history.history)\n",
        "losses.plot()"
      ],
      "metadata": {
        "colab": {
          "base_uri": "https://localhost:8080/",
          "height": 282
        },
        "id": "SMFUDRYnia27",
        "outputId": "713c6701-5265-4d2d-a814-1d2f76d324f8"
      },
      "execution_count": 21,
      "outputs": [
        {
          "output_type": "execute_result",
          "data": {
            "text/plain": [
              "<matplotlib.axes._subplots.AxesSubplot at 0x7fc3e4760f50>"
            ]
          },
          "metadata": {},
          "execution_count": 21
        },
        {
          "output_type": "display_data",
          "data": {
            "text/plain": [
              "<Figure size 432x288 with 1 Axes>"
            ],
            "image/png": "[encoded data removed]"
          },
          "metadata": {
            "needs_background": "light"
          }
        }
      ]
    }
  ],
  "metadata": {
    "colab": {
      "name": "Convolutional_Neural_Networks.ipynb",
      "provenance": [],
      "include_colab_link": true
    },
    "kernelspec": {
      "display_name": "Python 3 (ipykernel)",
      "language": "python",
      "name": "python3"
    },
    "language_info": {
      "codemirror_mode": {
        "name": "ipython",
        "version": 3
      },
      "file_extension": ".py",
      "mimetype": "text/x-python",
      "name": "python",
      "nbconvert_exporter": "python",
      "pygments_lexer": "ipython3",
      "version": "3.9.7"
    }
  },
  "nbformat": 4,
  "nbformat_minor": 0
}