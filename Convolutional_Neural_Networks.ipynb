{
  "nbformat": 4,
  "nbformat_minor": 0,
  "metadata": {
    "colab": {
      "name": "Convolutional Neural Networks.ipynb",
      "provenance": [],
      "authorship_tag": "ABX9TyO2pIXh/cmpM8XFYjk1sdC6",
      "include_colab_link": true
    },
    "kernelspec": {
      "name": "python3",
      "display_name": "Python 3"
    },
    "language_info": {
      "name": "python"
    }
  },
  "cells": [
    {
      "cell_type": "markdown",
      "metadata": {
        "id": "view-in-github",
        "colab_type": "text"
      },
      "source": [
        "<a href=\"https://colab.research.google.com/github/Kanka-max/JanuaryClass/blob/main/Convolutional_Neural_Networks.ipynb\" target=\"_parent\"><img src=\"https://colab.research.google.com/assets/colab-badge.svg\" alt=\"Open In Colab\"/></a>"
      ]
    },
    {
      "cell_type": "code",
      "execution_count": null,
      "metadata": {
        "id": "prVwuVXDlTWR"
      },
      "outputs": [],
      "source": [
        ""
      ]
    },
    {
      "cell_type": "markdown",
      "source": [
        "**Image Classification with the MNIST Dataset**"
      ],
      "metadata": {
        "id": "ZDEmtMtjlZw7"
      }
    },
    {
      "cell_type": "code",
      "source": [
        ""
      ],
      "metadata": {
        "id": "KPq7MiRGljNM"
      },
      "execution_count": null,
      "outputs": []
    },
    {
      "cell_type": "markdown",
      "source": [
        "**The Problem: Image Classification**\n",
        "\n",
        "In traditional programming, the programmer is able to articulate rules and conditions in their code that their program can then use to act in the correct way. This approach continues to work exceptionally well for a huge variety of problems.\n",
        "\n",
        "Image classification, which asks a program to correctly classify an image it has never seen before into its correct class, is near impossible to solve with traditional programming techniques. How could a programmer possibly define the rules and conditions to correctly classify a huge variety of images, especially taking into account images that they have never seen?"
      ],
      "metadata": {
        "id": "TzdSzYzSlm_M"
      }
    },
    {
      "cell_type": "markdown",
      "source": [
        "**The Solution: Deep Learning**\n",
        "\n",
        "Deep learning excels at pattern recognition by trial and error. By training a deep neural network with sufficient data, and providing the network with feedback on its performance via training, the network can identify, though a huge amount of iteration, its own set of conditions by which it can act in the correct way.\n",
        "\n"
      ],
      "metadata": {
        "id": "A5y1vmkdlyf1"
      }
    },
    {
      "cell_type": "markdown",
      "source": [
        "**The MNIST Dataset**\n",
        "\n",
        "In the history of deep learning, the accurate image classification of the MNSIT dataset, a collection of 70,000 grayscale images of handwritten digits from 0 to 9, was a major development. While today the problem is considered trivial, doing image classification with MNIST has become a kind of \"Hello World\" for deep learning."
      ],
      "metadata": {
        "id": "WA-ngwFfl72x"
      }
    },
    {
      "cell_type": "markdown",
      "source": [
        "Loading the Data Into Memory (with Keras)"
      ],
      "metadata": {
        "id": "Rk5rxmiwmErR"
      }
    },
    {
      "cell_type": "code",
      "source": [
        ""
      ],
      "metadata": {
        "id": "M6xgirZ8oC26"
      },
      "execution_count": null,
      "outputs": []
    }
  ]
}