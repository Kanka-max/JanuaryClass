{
  "nbformat": 4,
  "nbformat_minor": 0,
  "metadata": {
    "colab": {
      "name": "Python.ipynb",
      "provenance": [],
      "authorship_tag": "ABX9TyNubgfknRckYYSv2UpNTn4v",
      "include_colab_link": true
    },
    "kernelspec": {
      "name": "python3",
      "display_name": "Python 3"
    },
    "language_info": {
      "name": "python"
    }
  },
  "cells": [
    {
      "cell_type": "markdown",
      "metadata": {
        "id": "view-in-github",
        "colab_type": "text"
      },
      "source": [
        "<a href=\"https://colab.research.google.com/github/Kanka-max/JanuaryClass/blob/main/Python.ipynb\" target=\"_parent\"><img src=\"https://colab.research.google.com/assets/colab-badge.svg\" alt=\"Open In Colab\"/></a>"
      ]
    },
    {
      "cell_type": "code",
      "execution_count": null,
      "metadata": {
        "id": "9JBHbLXgxTFh"
      },
      "outputs": [],
      "source": [
        ""
      ]
    },
    {
      "cell_type": "markdown",
      "source": [
        "**General Overview of Python Programming**\n",
        "\n",
        "\n",
        "* Python is a general-purpose interpreted, interactive, object-oriented, and high-level programming language\n",
        "\n",
        "\n",
        "**Applications**\n",
        "\n",
        "- Web Development(Django &Flask)\n",
        "- Game Development(Blender,Unity3d,UDK)\n",
        "- Machine Learning and Artificial - Intelligence(Sklearn, )\n",
        "- Data Science and Data Visualization(Pandas, Plotly, Dash)\n",
        "- Desktop GUI(Tkinter,kivy)\n",
        "- Web Scraping Applications (Beautifulsoap,ScrapySelinium,Splash )\n",
        "- Embedded Applications (Arduino,Raspberry Pi)\n",
        "- Mobile application (Kivy)\n"
      ],
      "metadata": {
        "id": "bQWXoPiWyM_N"
      }
    },
    {
      "cell_type": "code",
      "source": [
        "# Variables\n",
        "\n",
        "\n",
        "y = 1000.50 # float type\n",
        "\n",
        "income = 100000 #\n",
        "\n",
        "is_married = True # boolean_type\n",
        "\n",
        "is_married = False "
      ],
      "metadata": {
        "id": "CeGdZdmkzcIG"
      },
      "execution_count": 1,
      "outputs": []
    },
    {
      "cell_type": "code",
      "source": [
        "print(x)"
      ],
      "metadata": {
        "colab": {
          "base_uri": "https://localhost:8080/"
        },
        "id": "eXYQeR131kzV",
        "outputId": "e30f4275-7fc7-42b6-a0ea-958274397d88"
      },
      "execution_count": 2,
      "outputs": [
        {
          "output_type": "stream",
          "name": "stdout",
          "text": [
            "10\n"
          ]
        }
      ]
    },
    {
      "cell_type": "code",
      "source": [
        "print(is_married)"
      ],
      "metadata": {
        "colab": {
          "base_uri": "https://localhost:8080/"
        },
        "id": "BgZ211JZ1nGu",
        "outputId": "568f8316-4aa1-4cca-e34e-c4206549f0d7"
      },
      "execution_count": 3,
      "outputs": [
        {
          "output_type": "stream",
          "name": "stdout",
          "text": [
            "False\n"
          ]
        }
      ]
    },
    {
      "cell_type": "code",
      "source": [
        "display(x)"
      ],
      "metadata": {
        "colab": {
          "base_uri": "https://localhost:8080/",
          "height": 35
        },
        "id": "MTVKmWxO1q3a",
        "outputId": "c2a8bb03-9535-4989-813c-cff188a78935"
      },
      "execution_count": 4,
      "outputs": [
        {
          "output_type": "display_data",
          "data": {
            "text/plain": [
              "10"
            ]
          },
          "metadata": {}
        }
      ]
    },
    {
      "cell_type": "code",
      "source": [
        "\n",
        "x = 10 # integer\n",
        "print(x)"
      ],
      "metadata": {
        "id": "VDAJviRl1yq9"
      },
      "execution_count": null,
      "outputs": []
    },
    {
      "cell_type": "code",
      "source": [
        "# string\n",
        "\n",
        "my_variable = \"David Mugambi\"\n",
        "print(my_variable)"
      ],
      "metadata": {
        "colab": {
          "base_uri": "https://localhost:8080/"
        },
        "id": "F1e3Pl6j3zK8",
        "outputId": "90b327b7-2554-486f-f04c-6a53fbebe823"
      },
      "execution_count": 5,
      "outputs": [
        {
          "output_type": "stream",
          "name": "stdout",
          "text": [
            "David Mugambi\n"
          ]
        }
      ]
    },
    {
      "cell_type": "code",
      "source": [
        "# arrays - stores homogenous data type\n",
        "\n",
        "genre = [\"trap\", \"pop\", \"jazz\", \"blues\"] #string type array\n",
        "\n",
        "ages = [23, 24, 25, 26, 27] #integer array type\n",
        "\n",
        "income = [20000.00, 10000.56, 23000.77]"
      ],
      "metadata": {
        "id": "Fsro2In74Ivy"
      },
      "execution_count": 7,
      "outputs": []
    },
    {
      "cell_type": "code",
      "source": [
        "print([\"trap\", \"pop\", \"jazz\", \"blues\"])"
      ],
      "metadata": {
        "colab": {
          "base_uri": "https://localhost:8080/"
        },
        "id": "2GZcTQKy4_XA",
        "outputId": "4c37184e-d66d-4fd3-93ec-69e31a073037"
      },
      "execution_count": 9,
      "outputs": [
        {
          "output_type": "stream",
          "name": "stdout",
          "text": [
            "['trap', 'pop', 'jazz', 'blues']\n"
          ]
        }
      ]
    },
    {
      "cell_type": "code",
      "source": [
        "# lists - heterogenous, mutable\n",
        "\n",
        "my_list = [\"trap\", \"pop\", \"jazz\", \"blues\"]\n",
        "\n",
        "my_list.append(\"electro music\")\n",
        "\n",
        "print(my_list)\n",
        "\n"
      ],
      "metadata": {
        "colab": {
          "base_uri": "https://localhost:8080/"
        },
        "id": "nENjbapd6gKG",
        "outputId": "b77b8549-c46d-4649-bb20-a0e4d7f88314"
      },
      "execution_count": 10,
      "outputs": [
        {
          "output_type": "stream",
          "name": "stdout",
          "text": [
            "['trap', 'pop', 'jazz', 'blues', 'electro music']\n"
          ]
        }
      ]
    },
    {
      "cell_type": "code",
      "source": [
        "# tuples - immutable values\n",
        "\n",
        "my_tuple = (12, 34, 36)\n",
        "my_tuple\n",
        "\n",
        "\n",
        "\n"
      ],
      "metadata": {
        "colab": {
          "base_uri": "https://localhost:8080/"
        },
        "id": "ruvXRqlu5BNK",
        "outputId": "f9ea388d-2d5b-499b-fd97-906fdface877"
      },
      "execution_count": 11,
      "outputs": [
        {
          "output_type": "execute_result",
          "data": {
            "text/plain": [
              "(12, 34, 36)"
            ]
          },
          "metadata": {},
          "execution_count": 11
        }
      ]
    },
    {
      "cell_type": "code",
      "source": [
        "# scalars - float/integer - 0- DImensional\n",
        "# list- vector - 1- Dimensional\n",
        "# matrices - 2 - DImenisional\n",
        "# tensors - 3 - Dimensional\n",
        "\n",
        "\n",
        "\n"
      ],
      "metadata": {
        "id": "j2Tcldzx7xMR"
      },
      "execution_count": null,
      "outputs": []
    },
    {
      "cell_type": "code",
      "source": [
        "# row and column - 2D\n",
        "\n",
        "# dictionary - made up of key value pairs\n",
        "\n",
        "# dictionary = {key : value, key_1:value_1, key_n:value_n}\n",
        "\n",
        "#string is the key, string is the value\n",
        "\n",
        "continents = {\"Africa\": \"Kenya\", \n",
        "              \"Europe\": \"France\", \n",
        "              \"Asia\": \"Japan\"}\n",
        "print(continents)\n",
        "# string as key, list as value\n",
        "\n",
        "continents_1 = {\"Africa\": [\"Kenya\", \"Tanzania\", \"Nigeria\"], \n",
        "                \"Europe\": [\"France\", \"Spain\", \"Ukraine\"],\n",
        "                \"Asia\": [\"Japan\", \"China\", \"S. Korea\"]}\n",
        "\n",
        "print(continents_1)\n"
      ],
      "metadata": {
        "colab": {
          "base_uri": "https://localhost:8080/"
        },
        "id": "KfwD9FiV90FH",
        "outputId": "807da7b9-cc5b-4a68-e6d5-069fee06b77d"
      },
      "execution_count": 12,
      "outputs": [
        {
          "output_type": "stream",
          "name": "stdout",
          "text": [
            "{'Africa': ['Kenya', 'Tanzania', 'Nigeria'], 'Europe': ['France', 'Spain', 'Ukraine'], 'Asia': ['Japan', 'China', 'S. Korea']}\n"
          ]
        }
      ]
    },
    {
      "cell_type": "code",
      "source": [
        "# integer as key, list as value\n",
        "\n",
        "continents_2 = {1: [\"Kenya\", \"Tanzania\", \"Nigeria\"], \n",
        "                2: [\"France\", \"Spain\", \"Ukraine\"],\n",
        "                3: [\"Japan\", \"China\", \"S. Korea\"]}\n",
        "\n",
        "continents_2"
      ],
      "metadata": {
        "colab": {
          "base_uri": "https://localhost:8080/"
        },
        "id": "bx9ky3Xp_wou",
        "outputId": "3da820d0-e4b7-47ce-d7d6-9ebd1ded0db5"
      },
      "execution_count": 13,
      "outputs": [
        {
          "output_type": "execute_result",
          "data": {
            "text/plain": [
              "{1: ['Kenya', 'Tanzania', 'Nigeria'],\n",
              " 2: ['France', 'Spain', 'Ukraine'],\n",
              " 3: ['Japan', 'China', 'S. Korea']}"
            ]
          },
          "metadata": {},
          "execution_count": 13
        }
      ]
    },
    {
      "cell_type": "code",
      "source": [
        "# key is string, another key is also a string, value is dictionary\n",
        "\n",
        "regions = {\"North America\": {\"United States\": [\"Texas\", \"New York\", \"Washington\"], \n",
        "                             \"Canada\":[\"Ottawa\", \"Toronto\", \"Vancouver\"]},\n",
        "           \"Western Africa\": {\"Nigeria\": [\"Lagos\", \"Abuja\", \"Port Hacourt\"]}}\n",
        "\n",
        "\n",
        "regions"
      ],
      "metadata": {
        "colab": {
          "base_uri": "https://localhost:8080/"
        },
        "id": "ER9EZAC5AJO-",
        "outputId": "ce63ad69-0e71-4236-f739-b682a9e5ee29"
      },
      "execution_count": 14,
      "outputs": [
        {
          "output_type": "execute_result",
          "data": {
            "text/plain": [
              "{'North America': {'Canada': ['Ottawa', 'Toronto', 'Vancouver'],\n",
              "  'United States': ['Texas', 'New York', 'Washington']},\n",
              " 'Western Africa': {'Nigeria': ['Lagos', 'Abuja', 'Port Hacourt']}}"
            ]
          },
          "metadata": {},
          "execution_count": 14
        }
      ]
    },
    {
      "cell_type": "code",
      "source": [
        ""
      ],
      "metadata": {
        "id": "rEGV5QFHGmXN"
      },
      "execution_count": null,
      "outputs": []
    },
    {
      "cell_type": "code",
      "source": [
        "import pandas as pd\n",
        "\n",
        "my_dataframe = pd.DataFrame(data=continents_1)\n",
        "my_dataframe"
      ],
      "metadata": {
        "colab": {
          "base_uri": "https://localhost:8080/",
          "height": 144
        },
        "id": "Lm65F1pEElX0",
        "outputId": "36460ca5-151c-4aa0-ffd9-403e686502ee"
      },
      "execution_count": 15,
      "outputs": [
        {
          "output_type": "execute_result",
          "data": {
            "text/plain": [
              "     Africa   Europe      Asia\n",
              "0     Kenya   France     Japan\n",
              "1  Tanzania    Spain     China\n",
              "2   Nigeria  Ukraine  S. Korea"
            ],
            "text/html": [
              "\n",
              "  <div id=\"df-5a0b8e6c-8f5d-4720-b7cb-a4cee831fa07\">\n",
              "    <div class=\"colab-df-container\">\n",
              "      <div>\n",
              "<style scoped>\n",
              "    .dataframe tbody tr th:only-of-type {\n",
              "        vertical-align: middle;\n",
              "    }\n",
              "\n",
              "    .dataframe tbody tr th {\n",
              "        vertical-align: top;\n",
              "    }\n",
              "\n",
              "    .dataframe thead th {\n",
              "        text-align: right;\n",
              "    }\n",
              "</style>\n",
              "<table border=\"1\" class=\"dataframe\">\n",
              "  <thead>\n",
              "    <tr style=\"text-align: right;\">\n",
              "      <th></th>\n",
              "      <th>Africa</th>\n",
              "      <th>Europe</th>\n",
              "      <th>Asia</th>\n",
              "    </tr>\n",
              "  </thead>\n",
              "  <tbody>\n",
              "    <tr>\n",
              "      <th>0</th>\n",
              "      <td>Kenya</td>\n",
              "      <td>France</td>\n",
              "      <td>Japan</td>\n",
              "    </tr>\n",
              "    <tr>\n",
              "      <th>1</th>\n",
              "      <td>Tanzania</td>\n",
              "      <td>Spain</td>\n",
              "      <td>China</td>\n",
              "    </tr>\n",
              "    <tr>\n",
              "      <th>2</th>\n",
              "      <td>Nigeria</td>\n",
              "      <td>Ukraine</td>\n",
              "      <td>S. Korea</td>\n",
              "    </tr>\n",
              "  </tbody>\n",
              "</table>\n",
              "</div>\n",
              "      <button class=\"colab-df-convert\" onclick=\"convertToInteractive('df-5a0b8e6c-8f5d-4720-b7cb-a4cee831fa07')\"\n",
              "              title=\"Convert this dataframe to an interactive table.\"\n",
              "              style=\"display:none;\">\n",
              "        \n",
              "  <svg xmlns=\"http://www.w3.org/2000/svg\" height=\"24px\"viewBox=\"0 0 24 24\"\n",
              "       width=\"24px\">\n",
              "    <path d=\"M0 0h24v24H0V0z\" fill=\"none\"/>\n",
              "    <path d=\"M18.56 5.44l.94 2.06.94-2.06 2.06-.94-2.06-.94-.94-2.06-.94 2.06-2.06.94zm-11 1L8.5 8.5l.94-2.06 2.06-.94-2.06-.94L8.5 2.5l-.94 2.06-2.06.94zm10 10l.94 2.06.94-2.06 2.06-.94-2.06-.94-.94-2.06-.94 2.06-2.06.94z\"/><path d=\"M17.41 7.96l-1.37-1.37c-.4-.4-.92-.59-1.43-.59-.52 0-1.04.2-1.43.59L10.3 9.45l-7.72 7.72c-.78.78-.78 2.05 0 2.83L4 21.41c.39.39.9.59 1.41.59.51 0 1.02-.2 1.41-.59l7.78-7.78 2.81-2.81c.8-.78.8-2.07 0-2.86zM5.41 20L4 18.59l7.72-7.72 1.47 1.35L5.41 20z\"/>\n",
              "  </svg>\n",
              "      </button>\n",
              "      \n",
              "  <style>\n",
              "    .colab-df-container {\n",
              "      display:flex;\n",
              "      flex-wrap:wrap;\n",
              "      gap: 12px;\n",
              "    }\n",
              "\n",
              "    .colab-df-convert {\n",
              "      background-color: #E8F0FE;\n",
              "      border: none;\n",
              "      border-radius: 50%;\n",
              "      cursor: pointer;\n",
              "      display: none;\n",
              "      fill: #1967D2;\n",
              "      height: 32px;\n",
              "      padding: 0 0 0 0;\n",
              "      width: 32px;\n",
              "    }\n",
              "\n",
              "    .colab-df-convert:hover {\n",
              "      background-color: #E2EBFA;\n",
              "      box-shadow: 0px 1px 2px rgba(60, 64, 67, 0.3), 0px 1px 3px 1px rgba(60, 64, 67, 0.15);\n",
              "      fill: #174EA6;\n",
              "    }\n",
              "\n",
              "    [theme=dark] .colab-df-convert {\n",
              "      background-color: #3B4455;\n",
              "      fill: #D2E3FC;\n",
              "    }\n",
              "\n",
              "    [theme=dark] .colab-df-convert:hover {\n",
              "      background-color: #434B5C;\n",
              "      box-shadow: 0px 1px 3px 1px rgba(0, 0, 0, 0.15);\n",
              "      filter: drop-shadow(0px 1px 2px rgba(0, 0, 0, 0.3));\n",
              "      fill: #FFFFFF;\n",
              "    }\n",
              "  </style>\n",
              "\n",
              "      <script>\n",
              "        const buttonEl =\n",
              "          document.querySelector('#df-5a0b8e6c-8f5d-4720-b7cb-a4cee831fa07 button.colab-df-convert');\n",
              "        buttonEl.style.display =\n",
              "          google.colab.kernel.accessAllowed ? 'block' : 'none';\n",
              "\n",
              "        async function convertToInteractive(key) {\n",
              "          const element = document.querySelector('#df-5a0b8e6c-8f5d-4720-b7cb-a4cee831fa07');\n",
              "          const dataTable =\n",
              "            await google.colab.kernel.invokeFunction('convertToInteractive',\n",
              "                                                     [key], {});\n",
              "          if (!dataTable) return;\n",
              "\n",
              "          const docLinkHtml = 'Like what you see? Visit the ' +\n",
              "            '<a target=\"_blank\" href=https://colab.research.google.com/notebooks/data_table.ipynb>data table notebook</a>'\n",
              "            + ' to learn more about interactive tables.';\n",
              "          element.innerHTML = '';\n",
              "          dataTable['output_type'] = 'display_data';\n",
              "          await google.colab.output.renderOutput(dataTable, element);\n",
              "          const docLink = document.createElement('div');\n",
              "          docLink.innerHTML = docLinkHtml;\n",
              "          element.appendChild(docLink);\n",
              "        }\n",
              "      </script>\n",
              "    </div>\n",
              "  </div>\n",
              "  "
            ]
          },
          "metadata": {},
          "execution_count": 15
        }
      ]
    },
    {
      "cell_type": "code",
      "source": [
        "my_regions = pd.DataFrame(data=regions)\n",
        "my_regions"
      ],
      "metadata": {
        "colab": {
          "base_uri": "https://localhost:8080/",
          "height": 144
        },
        "id": "ZUHYk48HGb-Q",
        "outputId": "bf6ad0e9-9421-4e0f-92f8-7ff86525010c"
      },
      "execution_count": 17,
      "outputs": [
        {
          "output_type": "execute_result",
          "data": {
            "text/plain": [
              "                               North America                Western Africa\n",
              "United States  [Texas, New York, Washington]                           NaN\n",
              "Canada          [Ottawa, Toronto, Vancouver]                           NaN\n",
              "Nigeria                                  NaN  [Lagos, Abuja, Port Hacourt]"
            ],
            "text/html": [
              "\n",
              "  <div id=\"df-99977943-12e2-4544-b735-6b1ad7f53513\">\n",
              "    <div class=\"colab-df-container\">\n",
              "      <div>\n",
              "<style scoped>\n",
              "    .dataframe tbody tr th:only-of-type {\n",
              "        vertical-align: middle;\n",
              "    }\n",
              "\n",
              "    .dataframe tbody tr th {\n",
              "        vertical-align: top;\n",
              "    }\n",
              "\n",
              "    .dataframe thead th {\n",
              "        text-align: right;\n",
              "    }\n",
              "</style>\n",
              "<table border=\"1\" class=\"dataframe\">\n",
              "  <thead>\n",
              "    <tr style=\"text-align: right;\">\n",
              "      <th></th>\n",
              "      <th>North America</th>\n",
              "      <th>Western Africa</th>\n",
              "    </tr>\n",
              "  </thead>\n",
              "  <tbody>\n",
              "    <tr>\n",
              "      <th>United States</th>\n",
              "      <td>[Texas, New York, Washington]</td>\n",
              "      <td>NaN</td>\n",
              "    </tr>\n",
              "    <tr>\n",
              "      <th>Canada</th>\n",
              "      <td>[Ottawa, Toronto, Vancouver]</td>\n",
              "      <td>NaN</td>\n",
              "    </tr>\n",
              "    <tr>\n",
              "      <th>Nigeria</th>\n",
              "      <td>NaN</td>\n",
              "      <td>[Lagos, Abuja, Port Hacourt]</td>\n",
              "    </tr>\n",
              "  </tbody>\n",
              "</table>\n",
              "</div>\n",
              "      <button class=\"colab-df-convert\" onclick=\"convertToInteractive('df-99977943-12e2-4544-b735-6b1ad7f53513')\"\n",
              "              title=\"Convert this dataframe to an interactive table.\"\n",
              "              style=\"display:none;\">\n",
              "        \n",
              "  <svg xmlns=\"http://www.w3.org/2000/svg\" height=\"24px\"viewBox=\"0 0 24 24\"\n",
              "       width=\"24px\">\n",
              "    <path d=\"M0 0h24v24H0V0z\" fill=\"none\"/>\n",
              "    <path d=\"M18.56 5.44l.94 2.06.94-2.06 2.06-.94-2.06-.94-.94-2.06-.94 2.06-2.06.94zm-11 1L8.5 8.5l.94-2.06 2.06-.94-2.06-.94L8.5 2.5l-.94 2.06-2.06.94zm10 10l.94 2.06.94-2.06 2.06-.94-2.06-.94-.94-2.06-.94 2.06-2.06.94z\"/><path d=\"M17.41 7.96l-1.37-1.37c-.4-.4-.92-.59-1.43-.59-.52 0-1.04.2-1.43.59L10.3 9.45l-7.72 7.72c-.78.78-.78 2.05 0 2.83L4 21.41c.39.39.9.59 1.41.59.51 0 1.02-.2 1.41-.59l7.78-7.78 2.81-2.81c.8-.78.8-2.07 0-2.86zM5.41 20L4 18.59l7.72-7.72 1.47 1.35L5.41 20z\"/>\n",
              "  </svg>\n",
              "      </button>\n",
              "      \n",
              "  <style>\n",
              "    .colab-df-container {\n",
              "      display:flex;\n",
              "      flex-wrap:wrap;\n",
              "      gap: 12px;\n",
              "    }\n",
              "\n",
              "    .colab-df-convert {\n",
              "      background-color: #E8F0FE;\n",
              "      border: none;\n",
              "      border-radius: 50%;\n",
              "      cursor: pointer;\n",
              "      display: none;\n",
              "      fill: #1967D2;\n",
              "      height: 32px;\n",
              "      padding: 0 0 0 0;\n",
              "      width: 32px;\n",
              "    }\n",
              "\n",
              "    .colab-df-convert:hover {\n",
              "      background-color: #E2EBFA;\n",
              "      box-shadow: 0px 1px 2px rgba(60, 64, 67, 0.3), 0px 1px 3px 1px rgba(60, 64, 67, 0.15);\n",
              "      fill: #174EA6;\n",
              "    }\n",
              "\n",
              "    [theme=dark] .colab-df-convert {\n",
              "      background-color: #3B4455;\n",
              "      fill: #D2E3FC;\n",
              "    }\n",
              "\n",
              "    [theme=dark] .colab-df-convert:hover {\n",
              "      background-color: #434B5C;\n",
              "      box-shadow: 0px 1px 3px 1px rgba(0, 0, 0, 0.15);\n",
              "      filter: drop-shadow(0px 1px 2px rgba(0, 0, 0, 0.3));\n",
              "      fill: #FFFFFF;\n",
              "    }\n",
              "  </style>\n",
              "\n",
              "      <script>\n",
              "        const buttonEl =\n",
              "          document.querySelector('#df-99977943-12e2-4544-b735-6b1ad7f53513 button.colab-df-convert');\n",
              "        buttonEl.style.display =\n",
              "          google.colab.kernel.accessAllowed ? 'block' : 'none';\n",
              "\n",
              "        async function convertToInteractive(key) {\n",
              "          const element = document.querySelector('#df-99977943-12e2-4544-b735-6b1ad7f53513');\n",
              "          const dataTable =\n",
              "            await google.colab.kernel.invokeFunction('convertToInteractive',\n",
              "                                                     [key], {});\n",
              "          if (!dataTable) return;\n",
              "\n",
              "          const docLinkHtml = 'Like what you see? Visit the ' +\n",
              "            '<a target=\"_blank\" href=https://colab.research.google.com/notebooks/data_table.ipynb>data table notebook</a>'\n",
              "            + ' to learn more about interactive tables.';\n",
              "          element.innerHTML = '';\n",
              "          dataTable['output_type'] = 'display_data';\n",
              "          await google.colab.output.renderOutput(dataTable, element);\n",
              "          const docLink = document.createElement('div');\n",
              "          docLink.innerHTML = docLinkHtml;\n",
              "          element.appendChild(docLink);\n",
              "        }\n",
              "      </script>\n",
              "    </div>\n",
              "  </div>\n",
              "  "
            ]
          },
          "metadata": {},
          "execution_count": 17
        }
      ]
    },
    {
      "cell_type": "code",
      "source": [
        "# control statements\n",
        "## if/else statements\n",
        "## while loops\n",
        "# for loops\n",
        "\n",
        "countries = [\"Kenya\", \"Rwanda\", \"Burundi\", \"Angola\", \"S.A\"]\n",
        "\n",
        "# FOR LOOP\n",
        "\n",
        "for x in countries:\n",
        "  print(x)\n",
        "\n",
        "\n",
        "\n"
      ],
      "metadata": {
        "colab": {
          "base_uri": "https://localhost:8080/"
        },
        "id": "iHQDlk8GHwFz",
        "outputId": "bfb1d8f9-73a6-4654-8227-9c2257e34b07"
      },
      "execution_count": 23,
      "outputs": [
        {
          "output_type": "stream",
          "name": "stdout",
          "text": [
            "Kenya\n",
            "Rwanda\n",
            "Burundi\n",
            "Angola\n",
            "S.A\n"
          ]
        }
      ]
    },
    {
      "cell_type": "code",
      "source": [
        "\n",
        "# list comprehension\n",
        "\n",
        "[x for x in countries]"
      ],
      "metadata": {
        "colab": {
          "base_uri": "https://localhost:8080/"
        },
        "id": "hdyfDqgMLEd-",
        "outputId": "11127d18-6af6-4bbe-96d8-be753b8c2155"
      },
      "execution_count": 24,
      "outputs": [
        {
          "output_type": "execute_result",
          "data": {
            "text/plain": [
              "['Kenya', 'Rwanda', 'Burundi', 'Angola', 'S.A']"
            ]
          },
          "metadata": {},
          "execution_count": 24
        }
      ]
    },
    {
      "cell_type": "code",
      "source": [
        "print([country for country in countries])"
      ],
      "metadata": {
        "colab": {
          "base_uri": "https://localhost:8080/"
        },
        "id": "KmiaQSNOLN9T",
        "outputId": "89268304-b18d-4ade-8beb-09fe6117ab6b"
      },
      "execution_count": 21,
      "outputs": [
        {
          "output_type": "stream",
          "name": "stdout",
          "text": [
            "['Kenya', 'Rwanda', 'Burundi', 'Angola', 'S.A']\n"
          ]
        }
      ]
    },
    {
      "cell_type": "code",
      "source": [
        "# if/else statement - conditional\n",
        "\n",
        "\n",
        "for x in countries:\n",
        "  if x == \"Kenya\":\n",
        "    print(x)\n",
        "  else:\n",
        "    break"
      ],
      "metadata": {
        "colab": {
          "base_uri": "https://localhost:8080/"
        },
        "id": "OhyilFbpNN23",
        "outputId": "cee5ccaf-c89c-449b-db7c-6acdd43480b3"
      },
      "execution_count": 25,
      "outputs": [
        {
          "output_type": "stream",
          "name": "stdout",
          "text": [
            "Kenya\n"
          ]
        }
      ]
    },
    {
      "cell_type": "code",
      "source": [
        "# logic operators\n",
        "# OR operator - either\n",
        "# AND operator - biconditional statement - only and only if\n",
        "# NOR operator - neither\n",
        "\n",
        "if x == \"Kenya\" or x == \"Rwanda\":\n",
        "  print(x)\n"
      ],
      "metadata": {
        "colab": {
          "base_uri": "https://localhost:8080/"
        },
        "id": "gTsLWBj0P_5b",
        "outputId": "1d97b268-76af-40d6-e420-a4fa5fa2b17d"
      },
      "execution_count": 30,
      "outputs": [
        {
          "output_type": "stream",
          "name": "stdout",
          "text": [
            "Rwanda\n"
          ]
        }
      ]
    },
    {
      "cell_type": "code",
      "source": [
        "if x in countries:\n",
        "  if x == \"Morocco\" or x == \"Egypt\":\n",
        "    print(\"Both countries are in the list\")\n",
        "  else:\n",
        "    print(\"Try another country name\")"
      ],
      "metadata": {
        "colab": {
          "base_uri": "https://localhost:8080/"
        },
        "id": "ygtUSUlgS6uY",
        "outputId": "0d181dd4-80b0-48ed-9f3d-a2490d241c39"
      },
      "execution_count": 35,
      "outputs": [
        {
          "output_type": "stream",
          "name": "stdout",
          "text": [
            "Try another country name\n"
          ]
        }
      ]
    },
    {
      "cell_type": "code",
      "source": [
        "countries = [\"Kenya\", \"Rwanda\", \"Burundi\", \"Angola\", \"S.A\"]\n",
        "\n",
        "#or operator\n",
        "if x in countries:\n",
        "  if x == \"Kenya\" or x == \"Ethiopia\":\n",
        "    print(\"One of the countries is in the list\")\n",
        "  else:\n",
        "    print(\"Try another country name\")\n",
        "\n",
        "#and operator\n",
        "if x in countries:\n",
        "  if x == \"Kenya\" and x == \"Angola\":\n",
        "    print(\"Both countries are in the list\")\n",
        "  else:\n",
        "    print(\"Try another country name\")\n",
        "\n",
        "\n"
      ],
      "metadata": {
        "colab": {
          "base_uri": "https://localhost:8080/",
          "height": 245
        },
        "id": "EzF-biY7UpDh",
        "outputId": "ffc5ceb7-3d25-466e-8b06-f1e974f8277e"
      },
      "execution_count": 2,
      "outputs": [
        {
          "output_type": "error",
          "ename": "NameError",
          "evalue": "ignored",
          "traceback": [
            "\u001b[0;31m---------------------------------------------------------------------------\u001b[0m",
            "\u001b[0;31mNameError\u001b[0m                                 Traceback (most recent call last)",
            "\u001b[0;32m<ipython-input-2-c9518af21cc8>\u001b[0m in \u001b[0;36m<module>\u001b[0;34m()\u001b[0m\n\u001b[1;32m      2\u001b[0m \u001b[0;34m\u001b[0m\u001b[0m\n\u001b[1;32m      3\u001b[0m \u001b[0;31m#or operator\u001b[0m\u001b[0;34m\u001b[0m\u001b[0;34m\u001b[0m\u001b[0;34m\u001b[0m\u001b[0m\n\u001b[0;32m----> 4\u001b[0;31m \u001b[0;32mif\u001b[0m \u001b[0mx\u001b[0m \u001b[0;32min\u001b[0m \u001b[0mcountries\u001b[0m\u001b[0;34m:\u001b[0m\u001b[0;34m\u001b[0m\u001b[0;34m\u001b[0m\u001b[0m\n\u001b[0m\u001b[1;32m      5\u001b[0m   \u001b[0;32mif\u001b[0m \u001b[0mx\u001b[0m \u001b[0;34m==\u001b[0m \u001b[0;34m\"Kenya\"\u001b[0m \u001b[0;32mor\u001b[0m \u001b[0mx\u001b[0m \u001b[0;34m==\u001b[0m \u001b[0;34m\"Ethiopia\"\u001b[0m\u001b[0;34m:\u001b[0m\u001b[0;34m\u001b[0m\u001b[0;34m\u001b[0m\u001b[0m\n\u001b[1;32m      6\u001b[0m     \u001b[0mprint\u001b[0m\u001b[0;34m(\u001b[0m\u001b[0;34m\"One of the countries is in the list\"\u001b[0m\u001b[0;34m)\u001b[0m\u001b[0;34m\u001b[0m\u001b[0;34m\u001b[0m\u001b[0m\n",
            "\u001b[0;31mNameError\u001b[0m: name 'x' is not defined"
          ]
        }
      ]
    },
    {
      "cell_type": "code",
      "source": [
        "# functions/ methods\n",
        "## in-built fx\n",
        "## user-defined fx"
      ],
      "metadata": {
        "id": "ajG8oPx1JUPY"
      },
      "execution_count": null,
      "outputs": []
    }
  ]
}